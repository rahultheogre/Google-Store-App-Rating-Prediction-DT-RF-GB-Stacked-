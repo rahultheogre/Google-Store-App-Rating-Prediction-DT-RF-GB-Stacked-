{
 "cells": [
  {
   "cell_type": "markdown",
   "id": "PEGo8ggYcfw3",
   "metadata": {
    "id": "PEGo8ggYcfw3"
   },
   "source": [
    "# Google Store App Rating Prediction (DT RF GB Stacked)"
   ]
  },
  {
   "cell_type": "markdown",
   "id": "fZtQVJzSEedx",
   "metadata": {
    "id": "fZtQVJzSEedx"
   },
   "source": [
    "### CONTEXT:\n",
    "The Play Store apps data has enormous potential to drive app-making businesses to success. However, many apps are being developed every single day and only a few of them become profitable. It is important for developers to be able to predict the success of their app and incorporate features which makes an app successful. We can collect app\n",
    "data and user ratings from the app stores and use it to extract insightful information. A machine learning model can be used to predict rating for a given app, which can be used to estimate success and scope of improvement. \n",
    "\n",
    "### PROJECT OBJECTIVE:\n",
    "The Goal is to predict the rating for an app based on the given input features like size, number of downloads etc. \n",
    "\n",
    "### DATA DESCRIPTION: \n",
    "Web scraped data of 10k Play Store apps for analyzing the Android market. Each app (row) has values for category, rating, size, and more. \n",
    "1. App: Application name\n",
    "2. Category: Category the app belongs to\n",
    "3. Rating: Overall user rating of the app\n",
    "4. Reviews: Number of user reviews for the app\n",
    "5. Size: Size of the app\n",
    "6. Installs: Number of user downloads/installs for the app\n",
    "7. Type: Paid or Free\n",
    "8. Price: Price of the app\n",
    "9. Content Rating: Age group the app is targeted at - Children / Mature 21+ / Adult\n",
    "10. Genres: An app can belong to multiple genres (apart from its main category). For eg, a musical family game will belong to Music, Game, Family genres. \n",
    "11. Last Updated: Date when the app was last updated on Play Store\n",
    "12. Current Ver: Current version of the app available on Play Store\n",
    "13. Android Ver: Min required Android version"
   ]
  },
  {
   "cell_type": "markdown",
   "id": "VdMWaOCwugzA",
   "metadata": {
    "id": "VdMWaOCwugzA"
   },
   "source": [
    "## 1. Import required libraries and read the data"
   ]
  },
  {
   "cell_type": "code",
   "execution_count": 1,
   "id": "898921df",
   "metadata": {
    "ExecuteTime": {
     "end_time": "2022-11-05T19:57:41.642974Z",
     "start_time": "2022-11-05T19:57:41.627421Z"
    }
   },
   "outputs": [],
   "source": [
    "import warnings\n",
    "warnings.filterwarnings(\"ignore\")"
   ]
  },
  {
   "cell_type": "code",
   "execution_count": 2,
   "id": "5de1055c",
   "metadata": {
    "ExecuteTime": {
     "end_time": "2022-11-05T19:57:43.049071Z",
     "start_time": "2022-11-05T19:57:41.642974Z"
    },
    "executionInfo": {
     "elapsed": 393,
     "status": "ok",
     "timestamp": 1663226728168,
     "user": {
      "displayName": "Rahul S",
      "userId": "05974193569914813309"
     },
     "user_tz": -330
    },
    "id": "5de1055c"
   },
   "outputs": [],
   "source": [
    "#-------------------------------------------------------------------------------------------------------------------------------\n",
    "import pandas as pd                                                 # for panel data analysis\n",
    "pd.set_option('display.max_columns', None)                          # Unfolding hidden features if the cardinality is high      \n",
    "pd.set_option('display.max_colwidth', None)                         # Unfolding the max feature width for better clrity      \n",
    "pd.set_option('display.max_rows', None)                             # Unfolding hidden data points if the cardinality is high\n",
    "pd.set_option('display.float_format', lambda x: '%.5f' % x)         # To suppress scientific notation over exponential values\n",
    "#-------------------------------------------------------------------------------------------------------------------------------\n",
    "import numpy as np                                                  # Importing package numpys (For Numerical Python)\n",
    "#-------------------------------------------------------------------------------------------------------------------------------\n",
    "import matplotlib.pyplot as plt                                     # Importing pyplot interface using matplotlib\n",
    "from matplotlib.pylab import rcParams                               # Backend used for rendering and GUI integration                                               \n",
    "import seaborn as sns                                               # Importin seaborn library for interactive visualization\n",
    "#set seaborn plotting aesthetics\n",
    "sns.set(style='whitegrid')\n",
    "%matplotlib inline\n",
    "\n",
    "from scipy import stats\n",
    "\n",
    "#suppress scientific notation\n",
    "pd.set_option('display.float_format', lambda x: '%.5f' % x)"
   ]
  },
  {
   "cell_type": "code",
   "execution_count": 3,
   "id": "bd7fff49",
   "metadata": {
    "ExecuteTime": {
     "end_time": "2022-11-05T19:57:43.095948Z",
     "start_time": "2022-11-05T19:57:43.049071Z"
    },
    "executionInfo": {
     "elapsed": 1080,
     "status": "ok",
     "timestamp": 1663226729631,
     "user": {
      "displayName": "Rahul S",
      "userId": "05974193569914813309"
     },
     "user_tz": -330
    },
    "id": "bd7fff49"
   },
   "outputs": [],
   "source": [
    "df = pd.read_csv('Apps_data.csv')"
   ]
  },
  {
   "cell_type": "code",
   "execution_count": 4,
   "id": "fece111a",
   "metadata": {
    "ExecuteTime": {
     "end_time": "2022-11-05T19:57:43.127197Z",
     "start_time": "2022-11-05T19:57:43.095948Z"
    },
    "colab": {
     "base_uri": "https://localhost:8080/",
     "height": 493
    },
    "executionInfo": {
     "elapsed": 8,
     "status": "ok",
     "timestamp": 1663226729632,
     "user": {
      "displayName": "Rahul S",
      "userId": "05974193569914813309"
     },
     "user_tz": -330
    },
    "id": "fece111a",
    "outputId": "d88bd340-c156-44b9-f9e2-2687b84aa210",
    "scrolled": true
   },
   "outputs": [
    {
     "data": {
      "text/html": [
       "<div>\n",
       "<style scoped>\n",
       "    .dataframe tbody tr th:only-of-type {\n",
       "        vertical-align: middle;\n",
       "    }\n",
       "\n",
       "    .dataframe tbody tr th {\n",
       "        vertical-align: top;\n",
       "    }\n",
       "\n",
       "    .dataframe thead th {\n",
       "        text-align: right;\n",
       "    }\n",
       "</style>\n",
       "<table border=\"1\" class=\"dataframe\">\n",
       "  <thead>\n",
       "    <tr style=\"text-align: right;\">\n",
       "      <th></th>\n",
       "      <th>App</th>\n",
       "      <th>Category</th>\n",
       "      <th>Rating</th>\n",
       "      <th>Reviews</th>\n",
       "      <th>Size</th>\n",
       "      <th>Installs</th>\n",
       "      <th>Type</th>\n",
       "      <th>Price</th>\n",
       "      <th>Content Rating</th>\n",
       "      <th>Genres</th>\n",
       "      <th>Last Updated</th>\n",
       "      <th>Current Ver</th>\n",
       "      <th>Android Ver</th>\n",
       "    </tr>\n",
       "  </thead>\n",
       "  <tbody>\n",
       "    <tr>\n",
       "      <th>0</th>\n",
       "      <td>Photo Editor &amp; Candy Camera &amp; Grid &amp; ScrapBook</td>\n",
       "      <td>ART_AND_DESIGN</td>\n",
       "      <td>4.10000</td>\n",
       "      <td>159</td>\n",
       "      <td>19M</td>\n",
       "      <td>10,000+</td>\n",
       "      <td>Free</td>\n",
       "      <td>0</td>\n",
       "      <td>Everyone</td>\n",
       "      <td>Art &amp; Design</td>\n",
       "      <td>January 7, 2018</td>\n",
       "      <td>1.0.0</td>\n",
       "      <td>4.0.3 and up</td>\n",
       "    </tr>\n",
       "    <tr>\n",
       "      <th>1</th>\n",
       "      <td>Coloring book moana</td>\n",
       "      <td>ART_AND_DESIGN</td>\n",
       "      <td>3.90000</td>\n",
       "      <td>967</td>\n",
       "      <td>14M</td>\n",
       "      <td>500,000+</td>\n",
       "      <td>Free</td>\n",
       "      <td>0</td>\n",
       "      <td>Everyone</td>\n",
       "      <td>Art &amp; Design;Pretend Play</td>\n",
       "      <td>January 15, 2018</td>\n",
       "      <td>2.0.0</td>\n",
       "      <td>4.0.3 and up</td>\n",
       "    </tr>\n",
       "    <tr>\n",
       "      <th>2</th>\n",
       "      <td>U Launcher Lite – FREE Live Cool Themes, Hide Apps</td>\n",
       "      <td>ART_AND_DESIGN</td>\n",
       "      <td>4.70000</td>\n",
       "      <td>87510</td>\n",
       "      <td>8.7M</td>\n",
       "      <td>5,000,000+</td>\n",
       "      <td>Free</td>\n",
       "      <td>0</td>\n",
       "      <td>Everyone</td>\n",
       "      <td>Art &amp; Design</td>\n",
       "      <td>August 1, 2018</td>\n",
       "      <td>1.2.4</td>\n",
       "      <td>4.0.3 and up</td>\n",
       "    </tr>\n",
       "    <tr>\n",
       "      <th>3</th>\n",
       "      <td>Sketch - Draw &amp; Paint</td>\n",
       "      <td>ART_AND_DESIGN</td>\n",
       "      <td>4.50000</td>\n",
       "      <td>215644</td>\n",
       "      <td>25M</td>\n",
       "      <td>50,000,000+</td>\n",
       "      <td>Free</td>\n",
       "      <td>0</td>\n",
       "      <td>Teen</td>\n",
       "      <td>Art &amp; Design</td>\n",
       "      <td>June 8, 2018</td>\n",
       "      <td>Varies with device</td>\n",
       "      <td>4.2 and up</td>\n",
       "    </tr>\n",
       "    <tr>\n",
       "      <th>4</th>\n",
       "      <td>Pixel Draw - Number Art Coloring Book</td>\n",
       "      <td>ART_AND_DESIGN</td>\n",
       "      <td>4.30000</td>\n",
       "      <td>967</td>\n",
       "      <td>2.8M</td>\n",
       "      <td>100,000+</td>\n",
       "      <td>Free</td>\n",
       "      <td>0</td>\n",
       "      <td>Everyone</td>\n",
       "      <td>Art &amp; Design;Creativity</td>\n",
       "      <td>June 20, 2018</td>\n",
       "      <td>1.1</td>\n",
       "      <td>4.4 and up</td>\n",
       "    </tr>\n",
       "  </tbody>\n",
       "</table>\n",
       "</div>"
      ],
      "text/plain": [
       "                                                  App        Category  Rating  \\\n",
       "0      Photo Editor & Candy Camera & Grid & ScrapBook  ART_AND_DESIGN 4.10000   \n",
       "1                                 Coloring book moana  ART_AND_DESIGN 3.90000   \n",
       "2  U Launcher Lite – FREE Live Cool Themes, Hide Apps  ART_AND_DESIGN 4.70000   \n",
       "3                               Sketch - Draw & Paint  ART_AND_DESIGN 4.50000   \n",
       "4               Pixel Draw - Number Art Coloring Book  ART_AND_DESIGN 4.30000   \n",
       "\n",
       "  Reviews  Size     Installs  Type Price Content Rating  \\\n",
       "0     159   19M      10,000+  Free     0       Everyone   \n",
       "1     967   14M     500,000+  Free     0       Everyone   \n",
       "2   87510  8.7M   5,000,000+  Free     0       Everyone   \n",
       "3  215644   25M  50,000,000+  Free     0           Teen   \n",
       "4     967  2.8M     100,000+  Free     0       Everyone   \n",
       "\n",
       "                      Genres      Last Updated         Current Ver  \\\n",
       "0               Art & Design   January 7, 2018               1.0.0   \n",
       "1  Art & Design;Pretend Play  January 15, 2018               2.0.0   \n",
       "2               Art & Design    August 1, 2018               1.2.4   \n",
       "3               Art & Design      June 8, 2018  Varies with device   \n",
       "4    Art & Design;Creativity     June 20, 2018                 1.1   \n",
       "\n",
       "    Android Ver  \n",
       "0  4.0.3 and up  \n",
       "1  4.0.3 and up  \n",
       "2  4.0.3 and up  \n",
       "3    4.2 and up  \n",
       "4    4.4 and up  "
      ]
     },
     "execution_count": 4,
     "metadata": {},
     "output_type": "execute_result"
    }
   ],
   "source": [
    "df.head()"
   ]
  },
  {
   "cell_type": "code",
   "execution_count": 5,
   "id": "a6bed4b1",
   "metadata": {
    "ExecuteTime": {
     "end_time": "2022-11-05T19:57:43.158442Z",
     "start_time": "2022-11-05T19:57:43.127197Z"
    },
    "colab": {
     "base_uri": "https://localhost:8080/"
    },
    "executionInfo": {
     "elapsed": 7,
     "status": "ok",
     "timestamp": 1663226729633,
     "user": {
      "displayName": "Rahul S",
      "userId": "05974193569914813309"
     },
     "user_tz": -330
    },
    "id": "a6bed4b1",
    "outputId": "db014842-1128-4d52-ba79-8ce13b6db994",
    "scrolled": true
   },
   "outputs": [
    {
     "name": "stdout",
     "output_type": "stream",
     "text": [
      "<class 'pandas.core.frame.DataFrame'>\n",
      "RangeIndex: 10841 entries, 0 to 10840\n",
      "Data columns (total 13 columns):\n",
      " #   Column          Non-Null Count  Dtype  \n",
      "---  ------          --------------  -----  \n",
      " 0   App             10841 non-null  object \n",
      " 1   Category        10841 non-null  object \n",
      " 2   Rating          9367 non-null   float64\n",
      " 3   Reviews         10841 non-null  object \n",
      " 4   Size            10841 non-null  object \n",
      " 5   Installs        10841 non-null  object \n",
      " 6   Type            10840 non-null  object \n",
      " 7   Price           10841 non-null  object \n",
      " 8   Content Rating  10840 non-null  object \n",
      " 9   Genres          10841 non-null  object \n",
      " 10  Last Updated    10841 non-null  object \n",
      " 11  Current Ver     10833 non-null  object \n",
      " 12  Android Ver     10838 non-null  object \n",
      "dtypes: float64(1), object(12)\n",
      "memory usage: 1.1+ MB\n"
     ]
    }
   ],
   "source": [
    "df.info()"
   ]
  },
  {
   "cell_type": "code",
   "execution_count": 6,
   "id": "TlbSrU-NcmEr",
   "metadata": {
    "ExecuteTime": {
     "end_time": "2022-11-05T19:57:43.205312Z",
     "start_time": "2022-11-05T19:57:43.158442Z"
    },
    "colab": {
     "base_uri": "https://localhost:8080/",
     "height": 457
    },
    "executionInfo": {
     "elapsed": 59,
     "status": "ok",
     "timestamp": 1663226589255,
     "user": {
      "displayName": "Rahul S",
      "userId": "05974193569914813309"
     },
     "user_tz": -330
    },
    "id": "TlbSrU-NcmEr",
    "outputId": "9e0e9178-1d98-46e8-e888-d72dcc40e359"
   },
   "outputs": [
    {
     "data": {
      "text/html": [
       "<div>\n",
       "<style scoped>\n",
       "    .dataframe tbody tr th:only-of-type {\n",
       "        vertical-align: middle;\n",
       "    }\n",
       "\n",
       "    .dataframe tbody tr th {\n",
       "        vertical-align: top;\n",
       "    }\n",
       "\n",
       "    .dataframe thead th {\n",
       "        text-align: right;\n",
       "    }\n",
       "</style>\n",
       "<table border=\"1\" class=\"dataframe\">\n",
       "  <thead>\n",
       "    <tr style=\"text-align: right;\">\n",
       "      <th></th>\n",
       "      <th>count</th>\n",
       "      <th>unique</th>\n",
       "      <th>top</th>\n",
       "      <th>freq</th>\n",
       "      <th>mean</th>\n",
       "      <th>std</th>\n",
       "      <th>min</th>\n",
       "      <th>25%</th>\n",
       "      <th>50%</th>\n",
       "      <th>75%</th>\n",
       "      <th>max</th>\n",
       "    </tr>\n",
       "  </thead>\n",
       "  <tbody>\n",
       "    <tr>\n",
       "      <th>App</th>\n",
       "      <td>10841</td>\n",
       "      <td>9660</td>\n",
       "      <td>ROBLOX</td>\n",
       "      <td>9</td>\n",
       "      <td>NaN</td>\n",
       "      <td>NaN</td>\n",
       "      <td>NaN</td>\n",
       "      <td>NaN</td>\n",
       "      <td>NaN</td>\n",
       "      <td>NaN</td>\n",
       "      <td>NaN</td>\n",
       "    </tr>\n",
       "    <tr>\n",
       "      <th>Category</th>\n",
       "      <td>10841</td>\n",
       "      <td>34</td>\n",
       "      <td>FAMILY</td>\n",
       "      <td>1972</td>\n",
       "      <td>NaN</td>\n",
       "      <td>NaN</td>\n",
       "      <td>NaN</td>\n",
       "      <td>NaN</td>\n",
       "      <td>NaN</td>\n",
       "      <td>NaN</td>\n",
       "      <td>NaN</td>\n",
       "    </tr>\n",
       "    <tr>\n",
       "      <th>Rating</th>\n",
       "      <td>9367.00000</td>\n",
       "      <td>NaN</td>\n",
       "      <td>NaN</td>\n",
       "      <td>NaN</td>\n",
       "      <td>4.19334</td>\n",
       "      <td>0.53743</td>\n",
       "      <td>1.00000</td>\n",
       "      <td>4.00000</td>\n",
       "      <td>4.30000</td>\n",
       "      <td>4.50000</td>\n",
       "      <td>19.00000</td>\n",
       "    </tr>\n",
       "    <tr>\n",
       "      <th>Reviews</th>\n",
       "      <td>10841</td>\n",
       "      <td>6002</td>\n",
       "      <td>0</td>\n",
       "      <td>596</td>\n",
       "      <td>NaN</td>\n",
       "      <td>NaN</td>\n",
       "      <td>NaN</td>\n",
       "      <td>NaN</td>\n",
       "      <td>NaN</td>\n",
       "      <td>NaN</td>\n",
       "      <td>NaN</td>\n",
       "    </tr>\n",
       "    <tr>\n",
       "      <th>Size</th>\n",
       "      <td>10841</td>\n",
       "      <td>462</td>\n",
       "      <td>Varies with device</td>\n",
       "      <td>1695</td>\n",
       "      <td>NaN</td>\n",
       "      <td>NaN</td>\n",
       "      <td>NaN</td>\n",
       "      <td>NaN</td>\n",
       "      <td>NaN</td>\n",
       "      <td>NaN</td>\n",
       "      <td>NaN</td>\n",
       "    </tr>\n",
       "    <tr>\n",
       "      <th>Installs</th>\n",
       "      <td>10841</td>\n",
       "      <td>22</td>\n",
       "      <td>1,000,000+</td>\n",
       "      <td>1579</td>\n",
       "      <td>NaN</td>\n",
       "      <td>NaN</td>\n",
       "      <td>NaN</td>\n",
       "      <td>NaN</td>\n",
       "      <td>NaN</td>\n",
       "      <td>NaN</td>\n",
       "      <td>NaN</td>\n",
       "    </tr>\n",
       "    <tr>\n",
       "      <th>Type</th>\n",
       "      <td>10840</td>\n",
       "      <td>3</td>\n",
       "      <td>Free</td>\n",
       "      <td>10039</td>\n",
       "      <td>NaN</td>\n",
       "      <td>NaN</td>\n",
       "      <td>NaN</td>\n",
       "      <td>NaN</td>\n",
       "      <td>NaN</td>\n",
       "      <td>NaN</td>\n",
       "      <td>NaN</td>\n",
       "    </tr>\n",
       "    <tr>\n",
       "      <th>Price</th>\n",
       "      <td>10841</td>\n",
       "      <td>93</td>\n",
       "      <td>0</td>\n",
       "      <td>10040</td>\n",
       "      <td>NaN</td>\n",
       "      <td>NaN</td>\n",
       "      <td>NaN</td>\n",
       "      <td>NaN</td>\n",
       "      <td>NaN</td>\n",
       "      <td>NaN</td>\n",
       "      <td>NaN</td>\n",
       "    </tr>\n",
       "    <tr>\n",
       "      <th>Content Rating</th>\n",
       "      <td>10840</td>\n",
       "      <td>6</td>\n",
       "      <td>Everyone</td>\n",
       "      <td>8714</td>\n",
       "      <td>NaN</td>\n",
       "      <td>NaN</td>\n",
       "      <td>NaN</td>\n",
       "      <td>NaN</td>\n",
       "      <td>NaN</td>\n",
       "      <td>NaN</td>\n",
       "      <td>NaN</td>\n",
       "    </tr>\n",
       "    <tr>\n",
       "      <th>Genres</th>\n",
       "      <td>10841</td>\n",
       "      <td>120</td>\n",
       "      <td>Tools</td>\n",
       "      <td>842</td>\n",
       "      <td>NaN</td>\n",
       "      <td>NaN</td>\n",
       "      <td>NaN</td>\n",
       "      <td>NaN</td>\n",
       "      <td>NaN</td>\n",
       "      <td>NaN</td>\n",
       "      <td>NaN</td>\n",
       "    </tr>\n",
       "    <tr>\n",
       "      <th>Last Updated</th>\n",
       "      <td>10841</td>\n",
       "      <td>1378</td>\n",
       "      <td>August 3, 2018</td>\n",
       "      <td>326</td>\n",
       "      <td>NaN</td>\n",
       "      <td>NaN</td>\n",
       "      <td>NaN</td>\n",
       "      <td>NaN</td>\n",
       "      <td>NaN</td>\n",
       "      <td>NaN</td>\n",
       "      <td>NaN</td>\n",
       "    </tr>\n",
       "    <tr>\n",
       "      <th>Current Ver</th>\n",
       "      <td>10833</td>\n",
       "      <td>2832</td>\n",
       "      <td>Varies with device</td>\n",
       "      <td>1459</td>\n",
       "      <td>NaN</td>\n",
       "      <td>NaN</td>\n",
       "      <td>NaN</td>\n",
       "      <td>NaN</td>\n",
       "      <td>NaN</td>\n",
       "      <td>NaN</td>\n",
       "      <td>NaN</td>\n",
       "    </tr>\n",
       "    <tr>\n",
       "      <th>Android Ver</th>\n",
       "      <td>10838</td>\n",
       "      <td>33</td>\n",
       "      <td>4.1 and up</td>\n",
       "      <td>2451</td>\n",
       "      <td>NaN</td>\n",
       "      <td>NaN</td>\n",
       "      <td>NaN</td>\n",
       "      <td>NaN</td>\n",
       "      <td>NaN</td>\n",
       "      <td>NaN</td>\n",
       "      <td>NaN</td>\n",
       "    </tr>\n",
       "  </tbody>\n",
       "</table>\n",
       "</div>"
      ],
      "text/plain": [
       "                    count unique                 top   freq    mean     std  \\\n",
       "App                 10841   9660              ROBLOX      9     NaN     NaN   \n",
       "Category            10841     34              FAMILY   1972     NaN     NaN   \n",
       "Rating         9367.00000    NaN                 NaN    NaN 4.19334 0.53743   \n",
       "Reviews             10841   6002                   0    596     NaN     NaN   \n",
       "Size                10841    462  Varies with device   1695     NaN     NaN   \n",
       "Installs            10841     22          1,000,000+   1579     NaN     NaN   \n",
       "Type                10840      3                Free  10039     NaN     NaN   \n",
       "Price               10841     93                   0  10040     NaN     NaN   \n",
       "Content Rating      10840      6            Everyone   8714     NaN     NaN   \n",
       "Genres              10841    120               Tools    842     NaN     NaN   \n",
       "Last Updated        10841   1378      August 3, 2018    326     NaN     NaN   \n",
       "Current Ver         10833   2832  Varies with device   1459     NaN     NaN   \n",
       "Android Ver         10838     33          4.1 and up   2451     NaN     NaN   \n",
       "\n",
       "                   min     25%     50%     75%      max  \n",
       "App                NaN     NaN     NaN     NaN      NaN  \n",
       "Category           NaN     NaN     NaN     NaN      NaN  \n",
       "Rating         1.00000 4.00000 4.30000 4.50000 19.00000  \n",
       "Reviews            NaN     NaN     NaN     NaN      NaN  \n",
       "Size               NaN     NaN     NaN     NaN      NaN  \n",
       "Installs           NaN     NaN     NaN     NaN      NaN  \n",
       "Type               NaN     NaN     NaN     NaN      NaN  \n",
       "Price              NaN     NaN     NaN     NaN      NaN  \n",
       "Content Rating     NaN     NaN     NaN     NaN      NaN  \n",
       "Genres             NaN     NaN     NaN     NaN      NaN  \n",
       "Last Updated       NaN     NaN     NaN     NaN      NaN  \n",
       "Current Ver        NaN     NaN     NaN     NaN      NaN  \n",
       "Android Ver        NaN     NaN     NaN     NaN      NaN  "
      ]
     },
     "execution_count": 6,
     "metadata": {},
     "output_type": "execute_result"
    }
   ],
   "source": [
    "df.describe(include='all').T"
   ]
  },
  {
   "cell_type": "markdown",
   "id": "BZ11VP-KukJr",
   "metadata": {
    "id": "BZ11VP-KukJr"
   },
   "source": [
    "## Data cleansing and Exploratory data analysis\n",
    "\n"
   ]
  },
  {
   "cell_type": "markdown",
   "id": "eMJla4KUuuH5",
   "metadata": {
    "id": "eMJla4KUuuH5"
   },
   "source": [
    "### Dealing with Duplicate Entries, Unnecessary features and Missing Values"
   ]
  },
  {
   "cell_type": "code",
   "execution_count": 7,
   "id": "ff4919b8",
   "metadata": {
    "ExecuteTime": {
     "end_time": "2022-11-05T19:57:43.220928Z",
     "start_time": "2022-11-05T19:57:43.205312Z"
    },
    "executionInfo": {
     "elapsed": 58,
     "status": "ok",
     "timestamp": 1663226589256,
     "user": {
      "displayName": "Rahul S",
      "userId": "05974193569914813309"
     },
     "user_tz": -330
    },
    "id": "ff4919b8"
   },
   "outputs": [],
   "source": [
    "def duplicate_(data):\n",
    "    NoOfDuplicateRows = data.duplicated().sum()\n",
    "    if NoOfDuplicateRows == 0:\n",
    "        print(\"There are no duplicate records\")\n",
    "        return\n",
    "    else:\n",
    "        print(\"There are \",NoOfDuplicateRows,\"duplicate records\")"
   ]
  },
  {
   "cell_type": "code",
   "execution_count": 8,
   "id": "447dbb7f",
   "metadata": {
    "ExecuteTime": {
     "end_time": "2022-11-05T19:57:43.252174Z",
     "start_time": "2022-11-05T19:57:43.220928Z"
    },
    "colab": {
     "base_uri": "https://localhost:8080/"
    },
    "executionInfo": {
     "elapsed": 58,
     "status": "ok",
     "timestamp": 1663226589257,
     "user": {
      "displayName": "Rahul S",
      "userId": "05974193569914813309"
     },
     "user_tz": -330
    },
    "id": "447dbb7f",
    "outputId": "ed402144-b8b5-4d8f-eaa7-fbc8d12bd7b9",
    "scrolled": true
   },
   "outputs": [
    {
     "name": "stdout",
     "output_type": "stream",
     "text": [
      "There are  483 duplicate records\n"
     ]
    }
   ],
   "source": [
    "duplicate_(df)"
   ]
  },
  {
   "cell_type": "code",
   "execution_count": 9,
   "id": "02c280aa",
   "metadata": {
    "ExecuteTime": {
     "end_time": "2022-11-05T19:57:43.299053Z",
     "start_time": "2022-11-05T19:57:43.252174Z"
    },
    "colab": {
     "base_uri": "https://localhost:8080/"
    },
    "executionInfo": {
     "elapsed": 55,
     "status": "ok",
     "timestamp": 1663226589257,
     "user": {
      "displayName": "Rahul S",
      "userId": "05974193569914813309"
     },
     "user_tz": -330
    },
    "id": "02c280aa",
    "outputId": "746c592e-01a5-4ca8-adf3-205f4a3b1fa1",
    "scrolled": true
   },
   "outputs": [
    {
     "data": {
      "text/plain": [
       "0"
      ]
     },
     "execution_count": 9,
     "metadata": {},
     "output_type": "execute_result"
    }
   ],
   "source": [
    "df.drop_duplicates(inplace=True)\n",
    "df.duplicated().sum()"
   ]
  },
  {
   "cell_type": "markdown",
   "id": "sjYQf4vi9l_C",
   "metadata": {
    "id": "sjYQf4vi9l_C"
   },
   "source": [
    "The duplicate samples have been removed."
   ]
  },
  {
   "cell_type": "markdown",
   "id": "zOen1nc1-DdH",
   "metadata": {
    "id": "zOen1nc1-DdH"
   },
   "source": [
    "### Renaming a few features names for easy accessibility"
   ]
  },
  {
   "cell_type": "code",
   "execution_count": 10,
   "id": "0HXsC1zs-IlY",
   "metadata": {
    "ExecuteTime": {
     "end_time": "2022-11-05T19:57:43.314680Z",
     "start_time": "2022-11-05T19:57:43.299053Z"
    },
    "executionInfo": {
     "elapsed": 54,
     "status": "ok",
     "timestamp": 1663226589258,
     "user": {
      "displayName": "Rahul S",
      "userId": "05974193569914813309"
     },
     "user_tz": -330
    },
    "id": "0HXsC1zs-IlY"
   },
   "outputs": [],
   "source": [
    "df.rename(columns = {'Content Rating':'ContentRating', 'Last Updated':'LastUpdated',\n",
    "                     'Current Ver':'CurrentVer','Android Ver':'AndroidVer'}, inplace=True)"
   ]
  },
  {
   "cell_type": "code",
   "execution_count": 11,
   "id": "3debacf4-8aec-47e9-b950-a0e9600e5101",
   "metadata": {
    "ExecuteTime": {
     "end_time": "2022-11-05T19:57:43.345924Z",
     "start_time": "2022-11-05T19:57:43.314680Z"
    }
   },
   "outputs": [
    {
     "name": "stdout",
     "output_type": "stream",
     "text": [
      "<class 'pandas.core.frame.DataFrame'>\n",
      "Int64Index: 10358 entries, 0 to 10840\n",
      "Data columns (total 13 columns):\n",
      " #   Column         Non-Null Count  Dtype  \n",
      "---  ------         --------------  -----  \n",
      " 0   App            10358 non-null  object \n",
      " 1   Category       10358 non-null  object \n",
      " 2   Rating         8893 non-null   float64\n",
      " 3   Reviews        10358 non-null  object \n",
      " 4   Size           10358 non-null  object \n",
      " 5   Installs       10358 non-null  object \n",
      " 6   Type           10357 non-null  object \n",
      " 7   Price          10358 non-null  object \n",
      " 8   ContentRating  10357 non-null  object \n",
      " 9   Genres         10358 non-null  object \n",
      " 10  LastUpdated    10358 non-null  object \n",
      " 11  CurrentVer     10350 non-null  object \n",
      " 12  AndroidVer     10355 non-null  object \n",
      "dtypes: float64(1), object(12)\n",
      "memory usage: 1.1+ MB\n"
     ]
    }
   ],
   "source": [
    "df.info()"
   ]
  },
  {
   "cell_type": "markdown",
   "id": "28ce8aab",
   "metadata": {
    "id": "28ce8aab"
   },
   "source": [
    "### Missing Values"
   ]
  },
  {
   "cell_type": "code",
   "execution_count": 12,
   "id": "e9b189bc",
   "metadata": {
    "ExecuteTime": {
     "end_time": "2022-11-05T19:57:43.392794Z",
     "start_time": "2022-11-05T19:57:43.345924Z"
    },
    "colab": {
     "base_uri": "https://localhost:8080/"
    },
    "executionInfo": {
     "elapsed": 54,
     "status": "ok",
     "timestamp": 1663226589258,
     "user": {
      "displayName": "Rahul S",
      "userId": "05974193569914813309"
     },
     "user_tz": -330
    },
    "id": "e9b189bc",
    "outputId": "502e05ab-5f8c-48a5-dc01-6273a0ad1432"
   },
   "outputs": [
    {
     "name": "stdout",
     "output_type": "stream",
     "text": [
      "               net_missing  %missing\n",
      "App                      0   0.00000\n",
      "Category                 0   0.00000\n",
      "Rating                1465  14.14366\n",
      "Reviews                  0   0.00000\n",
      "Size                     0   0.00000\n",
      "Installs                 0   0.00000\n",
      "Type                     1   0.00965\n",
      "Price                    0   0.00000\n",
      "ContentRating            1   0.00965\n",
      "Genres                   0   0.00000\n",
      "LastUpdated              0   0.00000\n",
      "CurrentVer               8   0.07723\n",
      "AndroidVer               3   0.02896\n"
     ]
    }
   ],
   "source": [
    "def missing_data(df):\n",
    "    missing_data = pd.DataFrame({'net_missing': df.isnull().sum(), '%missing': (df.isnull().sum()/len(df))*100})\n",
    "    print(missing_data)\n",
    "\n",
    "missing_data(df)"
   ]
  },
  {
   "cell_type": "markdown",
   "id": "BWxR7Adb9vTN",
   "metadata": {
    "id": "BWxR7Adb9vTN"
   },
   "source": [
    "'Rating','Type','Content Rating','Current Ver','Android Ver'"
   ]
  },
  {
   "cell_type": "markdown",
   "id": "gr_kahrFJbzt",
   "metadata": {
    "id": "gr_kahrFJbzt"
   },
   "source": [
    "### Category and Genres"
   ]
  },
  {
   "cell_type": "markdown",
   "id": "mI3RUQGgJfww",
   "metadata": {
    "id": "mI3RUQGgJfww"
   },
   "source": [
    "Let's check the classes of these two features. From a preliminary glance, it appears that many of them overlap across the two feature."
   ]
  },
  {
   "cell_type": "code",
   "execution_count": 13,
   "id": "3wjq87BNJeNX",
   "metadata": {
    "ExecuteTime": {
     "end_time": "2022-11-05T19:57:43.408414Z",
     "start_time": "2022-11-05T19:57:43.392794Z"
    },
    "colab": {
     "base_uri": "https://localhost:8080/"
    },
    "executionInfo": {
     "elapsed": 54,
     "status": "ok",
     "timestamp": 1663226589260,
     "user": {
      "displayName": "Rahul S",
      "userId": "05974193569914813309"
     },
     "user_tz": -330
    },
    "id": "3wjq87BNJeNX",
    "outputId": "0b863c49-c67d-4a30-a210-f39e67c9215f",
    "scrolled": false
   },
   "outputs": [
    {
     "data": {
      "text/plain": [
       "FAMILY                 1943\n",
       "GAME                   1121\n",
       "TOOLS                   843\n",
       "BUSINESS                427\n",
       "MEDICAL                 408\n",
       "PRODUCTIVITY            407\n",
       "PERSONALIZATION         388\n",
       "LIFESTYLE               373\n",
       "COMMUNICATION           366\n",
       "FINANCE                 360\n",
       "SPORTS                  351\n",
       "PHOTOGRAPHY             322\n",
       "HEALTH_AND_FITNESS      306\n",
       "SOCIAL                  280\n",
       "NEWS_AND_MAGAZINES      264\n",
       "TRAVEL_AND_LOCAL        237\n",
       "BOOKS_AND_REFERENCE     230\n",
       "SHOPPING                224\n",
       "DATING                  196\n",
       "VIDEO_PLAYERS           175\n",
       "MAPS_AND_NAVIGATION     137\n",
       "EDUCATION               130\n",
       "FOOD_AND_DRINK          124\n",
       "ENTERTAINMENT           111\n",
       "AUTO_AND_VEHICLES        85\n",
       "LIBRARIES_AND_DEMO       85\n",
       "WEATHER                  82\n",
       "HOUSE_AND_HOME           80\n",
       "ART_AND_DESIGN           65\n",
       "EVENTS                   64\n",
       "PARENTING                60\n",
       "COMICS                   60\n",
       "BEAUTY                   53\n",
       "1.9                       1\n",
       "Name: Category, dtype: int64"
      ]
     },
     "execution_count": 13,
     "metadata": {},
     "output_type": "execute_result"
    }
   ],
   "source": [
    "df['Category'].value_counts()"
   ]
  },
  {
   "cell_type": "markdown",
   "id": "PA2NGZYWf3EV",
   "metadata": {
    "id": "PA2NGZYWf3EV"
   },
   "source": [
    "The last class in the list of classes is '1.9', a rather dubious name. Let's check."
   ]
  },
  {
   "cell_type": "code",
   "execution_count": 14,
   "id": "Gm10nHIuf-ft",
   "metadata": {
    "ExecuteTime": {
     "end_time": "2022-11-05T19:57:43.424033Z",
     "start_time": "2022-11-05T19:57:43.408414Z"
    },
    "colab": {
     "base_uri": "https://localhost:8080/",
     "height": 0
    },
    "executionInfo": {
     "elapsed": 55,
     "status": "ok",
     "timestamp": 1663226589261,
     "user": {
      "displayName": "Rahul S",
      "userId": "05974193569914813309"
     },
     "user_tz": -330
    },
    "id": "Gm10nHIuf-ft",
    "outputId": "bada14b6-9728-4ee5-d953-7f605adb9f4d"
   },
   "outputs": [
    {
     "data": {
      "text/html": [
       "<div>\n",
       "<style scoped>\n",
       "    .dataframe tbody tr th:only-of-type {\n",
       "        vertical-align: middle;\n",
       "    }\n",
       "\n",
       "    .dataframe tbody tr th {\n",
       "        vertical-align: top;\n",
       "    }\n",
       "\n",
       "    .dataframe thead th {\n",
       "        text-align: right;\n",
       "    }\n",
       "</style>\n",
       "<table border=\"1\" class=\"dataframe\">\n",
       "  <thead>\n",
       "    <tr style=\"text-align: right;\">\n",
       "      <th></th>\n",
       "      <th>App</th>\n",
       "      <th>Category</th>\n",
       "      <th>Rating</th>\n",
       "      <th>Reviews</th>\n",
       "      <th>Size</th>\n",
       "      <th>Installs</th>\n",
       "      <th>Type</th>\n",
       "      <th>Price</th>\n",
       "      <th>ContentRating</th>\n",
       "      <th>Genres</th>\n",
       "      <th>LastUpdated</th>\n",
       "      <th>CurrentVer</th>\n",
       "      <th>AndroidVer</th>\n",
       "    </tr>\n",
       "  </thead>\n",
       "  <tbody>\n",
       "    <tr>\n",
       "      <th>10472</th>\n",
       "      <td>Life Made WI-Fi Touchscreen Photo Frame</td>\n",
       "      <td>1.9</td>\n",
       "      <td>19.00000</td>\n",
       "      <td>3.0M</td>\n",
       "      <td>1,000+</td>\n",
       "      <td>Free</td>\n",
       "      <td>0</td>\n",
       "      <td>Everyone</td>\n",
       "      <td>NaN</td>\n",
       "      <td>February 11, 2018</td>\n",
       "      <td>1.0.19</td>\n",
       "      <td>4.0 and up</td>\n",
       "      <td>NaN</td>\n",
       "    </tr>\n",
       "  </tbody>\n",
       "</table>\n",
       "</div>"
      ],
      "text/plain": [
       "                                           App Category   Rating Reviews  \\\n",
       "10472  Life Made WI-Fi Touchscreen Photo Frame      1.9 19.00000    3.0M   \n",
       "\n",
       "         Size Installs Type     Price ContentRating             Genres  \\\n",
       "10472  1,000+     Free    0  Everyone           NaN  February 11, 2018   \n",
       "\n",
       "      LastUpdated  CurrentVer AndroidVer  \n",
       "10472      1.0.19  4.0 and up        NaN  "
      ]
     },
     "execution_count": 14,
     "metadata": {},
     "output_type": "execute_result"
    }
   ],
   "source": [
    "df[df.Category == '1.9']"
   ]
  },
  {
   "cell_type": "markdown",
   "id": "CYhKMybsg6oR",
   "metadata": {
    "id": "CYhKMybsg6oR"
   },
   "source": [
    "- This sample needs to be dropped.\n",
    "- Its Rating is 19. It has the only Null value in ContentRating feature."
   ]
  },
  {
   "cell_type": "code",
   "execution_count": 15,
   "id": "8Sx1MmzShQqC",
   "metadata": {
    "ExecuteTime": {
     "end_time": "2022-11-05T19:57:43.439673Z",
     "start_time": "2022-11-05T19:57:43.424033Z"
    },
    "executionInfo": {
     "elapsed": 55,
     "status": "ok",
     "timestamp": 1663226589262,
     "user": {
      "displayName": "Rahul S",
      "userId": "05974193569914813309"
     },
     "user_tz": -330
    },
    "id": "8Sx1MmzShQqC"
   },
   "outputs": [],
   "source": [
    "df.drop(df[df['Category'] == '1.9'].index, inplace = True)"
   ]
  },
  {
   "cell_type": "code",
   "execution_count": 16,
   "id": "VtA0R6shJzXm",
   "metadata": {
    "ExecuteTime": {
     "end_time": "2022-11-05T19:57:43.455278Z",
     "start_time": "2022-11-05T19:57:43.439673Z"
    },
    "colab": {
     "base_uri": "https://localhost:8080/"
    },
    "executionInfo": {
     "elapsed": 55,
     "status": "ok",
     "timestamp": 1663226589263,
     "user": {
      "displayName": "Rahul S",
      "userId": "05974193569914813309"
     },
     "user_tz": -330
    },
    "id": "VtA0R6shJzXm",
    "outputId": "61d0523f-ba35-43b3-825c-9cac51078d30"
   },
   "outputs": [
    {
     "data": {
      "text/plain": [
       "Tools                                    842\n",
       "Entertainment                            588\n",
       "Education                                527\n",
       "Business                                 427\n",
       "Medical                                  408\n",
       "Productivity                             407\n",
       "Personalization                          388\n",
       "Lifestyle                                372\n",
       "Communication                            366\n",
       "Sports                                   364\n",
       "Finance                                  360\n",
       "Action                                   356\n",
       "Photography                              322\n",
       "Health & Fitness                         306\n",
       "Social                                   280\n",
       "News & Magazines                         264\n",
       "Travel & Local                           236\n",
       "Books & Reference                        230\n",
       "Shopping                                 224\n",
       "Arcade                                   218\n",
       "Simulation                               199\n",
       "Dating                                   196\n",
       "Casual                                   191\n",
       "Video Players & Editors                  173\n",
       "Maps & Navigation                        137\n",
       "Puzzle                                   136\n",
       "Food & Drink                             124\n",
       "Role Playing                             109\n",
       "Strategy                                 105\n",
       "Racing                                    98\n",
       "Libraries & Demo                          85\n",
       "Auto & Vehicles                           85\n",
       "Weather                                   82\n",
       "House & Home                              80\n",
       "Adventure                                 75\n",
       "Events                                    64\n",
       "Comics                                    59\n",
       "Art & Design                              58\n",
       "Beauty                                    53\n",
       "Card                                      48\n",
       "Parenting                                 46\n",
       "Board                                     44\n",
       "Education;Education                       44\n",
       "Casino                                    39\n",
       "Educational;Education                     38\n",
       "Trivia                                    38\n",
       "Educational                               37\n",
       "Casual;Pretend Play                       30\n",
       "Word                                      28\n",
       "Entertainment;Music & Video               23\n",
       "Music                                     21\n",
       "Racing;Action & Adventure                 20\n",
       "Casual;Action & Adventure                 18\n",
       "Puzzle;Brain Games                        18\n",
       "Education;Pretend Play                    18\n",
       "Educational;Pretend Play                  16\n",
       "Action;Action & Adventure                 15\n",
       "Board;Brain Games                         15\n",
       "Arcade;Action & Adventure                 15\n",
       "Casual;Brain Games                        13\n",
       "Adventure;Action & Adventure              13\n",
       "Simulation;Action & Adventure             10\n",
       "Entertainment;Brain Games                  8\n",
       "Art & Design;Creativity                    7\n",
       "Education;Creativity                       7\n",
       "Casual;Creativity                          7\n",
       "Parenting;Education                        7\n",
       "Parenting;Music & Video                    6\n",
       "Educational;Brain Games                    6\n",
       "Education;Brain Games                      5\n",
       "Puzzle;Action & Adventure                  5\n",
       "Educational;Creativity                     5\n",
       "Role Playing;Action & Adventure            5\n",
       "Education;Action & Adventure               5\n",
       "Educational;Action & Adventure             4\n",
       "Role Playing;Pretend Play                  4\n",
       "Simulation;Pretend Play                    4\n",
       "Education;Music & Video                    4\n",
       "Sports;Action & Adventure                  4\n",
       "Entertainment;Creativity                   3\n",
       "Video Players & Editors;Music & Video      3\n",
       "Simulation;Education                       3\n",
       "Music;Music & Video                        3\n",
       "Casual;Education                           3\n",
       "Board;Action & Adventure                   3\n",
       "Entertainment;Action & Adventure           3\n",
       "Strategy;Action & Adventure                2\n",
       "Books & Reference;Education                2\n",
       "Art & Design;Pretend Play                  2\n",
       "Art & Design;Action & Adventure            2\n",
       "Video Players & Editors;Creativity         2\n",
       "Puzzle;Creativity                          2\n",
       "Entertainment;Pretend Play                 2\n",
       "Adventure;Education                        2\n",
       "Card;Action & Adventure                    2\n",
       "Health & Fitness;Education                 1\n",
       "Adventure;Brain Games                      1\n",
       "Communication;Creativity                   1\n",
       "Racing;Pretend Play                        1\n",
       "Strategy;Education                         1\n",
       "Role Playing;Brain Games                   1\n",
       "Role Playing;Education                     1\n",
       "Puzzle;Education                           1\n",
       "Books & Reference;Creativity               1\n",
       "Lifestyle;Education                        1\n",
       "Trivia;Education                           1\n",
       "Casual;Music & Video                       1\n",
       "Music & Audio;Music & Video                1\n",
       "Board;Pretend Play                         1\n",
       "Health & Fitness;Action & Adventure        1\n",
       "Comics;Creativity                          1\n",
       "Entertainment;Education                    1\n",
       "Card;Brain Games                           1\n",
       "Arcade;Pretend Play                        1\n",
       "Parenting;Brain Games                      1\n",
       "Travel & Local;Action & Adventure          1\n",
       "Lifestyle;Pretend Play                     1\n",
       "Tools;Education                            1\n",
       "Strategy;Creativity                        1\n",
       "Name: Genres, dtype: int64"
      ]
     },
     "execution_count": 16,
     "metadata": {},
     "output_type": "execute_result"
    }
   ],
   "source": [
    "df['Genres'].value_counts()"
   ]
  },
  {
   "cell_type": "markdown",
   "id": "aAjoz-ulKt_y",
   "metadata": {
    "id": "aAjoz-ulKt_y"
   },
   "source": [
    "- There are 33 different classes of 'Category' and 118 different classes of 'Genres'.\n",
    "- Many classes of 'Genres' have only one member.\n",
    "- Now, while filling the genres of an app, the uploader of the app might try to click on as many options as possible. In other words, it is representative of the uploader's mind. An expert android developer would be careful of these Genres, whereas newbies might be overzealous about increasing the reach of the app by increasing the number of genres it may belong to. Genres are about going a little deeper (than 'category') nto the functionality of the app in question. It has to do with going deeper into an app's usecase. But this is what we desire. We do not want too many classes at hand. It will give rise to the curse of dimensionality if we choose one-hot-encoding, and unnecessary ranking of the classes if we use Label Encoding. - Now, we are going to employ Decision Tree algorithm (which will overfit more if the number of classes of features is high) and then a league of COMPUTATIONALLY EXPENSIVE ensembling/boosting techniques. We don't have that resources at hand. Also, time is a factor. Because an algorithm should be able to take in LIVE data fed in the form of a stream and process that incoming data into something fruitful. Developing an algorithm which depends on the staticity of the data is not a good idea in this case. So in this project, I am going to a little more aggressive towards reducing computation time at expense of accuracy. \n",
    "- So, presently, I'll remove the feature Genres. What information we need from 'genres' is present to us via 'category' as well. It will help decision trees / random forests deal with the feature space in a much better way."
   ]
  },
  {
   "cell_type": "code",
   "execution_count": 17,
   "id": "-7porsW0NRI1",
   "metadata": {
    "ExecuteTime": {
     "end_time": "2022-11-05T19:57:43.470902Z",
     "start_time": "2022-11-05T19:57:43.455278Z"
    },
    "executionInfo": {
     "elapsed": 55,
     "status": "ok",
     "timestamp": 1663226589264,
     "user": {
      "displayName": "Rahul S",
      "userId": "05974193569914813309"
     },
     "user_tz": -330
    },
    "id": "-7porsW0NRI1"
   },
   "outputs": [],
   "source": [
    "df = df.drop(columns=['Genres'])"
   ]
  },
  {
   "cell_type": "markdown",
   "id": "nWalkLnJmPww",
   "metadata": {
    "id": "nWalkLnJmPww"
   },
   "source": [
    "### App"
   ]
  },
  {
   "cell_type": "markdown",
   "id": "njKPoLk2mSRX",
   "metadata": {
    "id": "njKPoLk2mSRX"
   },
   "source": [
    "- The feature 'App' can be removed. We don't need the names of the apps for their analysis. But before removing this feature, let me first be sure if the names are not repeated."
   ]
  },
  {
   "cell_type": "code",
   "execution_count": 18,
   "id": "CGRcJDPwmRoN",
   "metadata": {
    "ExecuteTime": {
     "end_time": "2022-11-05T19:57:43.486544Z",
     "start_time": "2022-11-05T19:57:43.470902Z"
    },
    "colab": {
     "base_uri": "https://localhost:8080/"
    },
    "executionInfo": {
     "elapsed": 55,
     "status": "ok",
     "timestamp": 1663226589265,
     "user": {
      "displayName": "Rahul S",
      "userId": "05974193569914813309"
     },
     "user_tz": -330
    },
    "id": "CGRcJDPwmRoN",
    "outputId": "85870ee3-ee59-4317-fcd2-6131560675a2"
   },
   "outputs": [
    {
     "data": {
      "text/plain": [
       "698"
      ]
     },
     "execution_count": 18,
     "metadata": {},
     "output_type": "execute_result"
    }
   ],
   "source": [
    "df.App.duplicated().sum()"
   ]
  },
  {
   "cell_type": "markdown",
   "id": "UxEcJC9smrpY",
   "metadata": {
    "id": "UxEcJC9smrpY"
   },
   "source": [
    "A few apps have duplicated entries. But there are differences in other features. Let us have a glimpse."
   ]
  },
  {
   "cell_type": "code",
   "execution_count": 19,
   "id": "6ge1yB2om6UV",
   "metadata": {
    "ExecuteTime": {
     "end_time": "2022-11-05T19:57:43.502148Z",
     "start_time": "2022-11-05T19:57:43.486544Z"
    },
    "colab": {
     "base_uri": "https://localhost:8080/"
    },
    "executionInfo": {
     "elapsed": 55,
     "status": "ok",
     "timestamp": 1663226589266,
     "user": {
      "displayName": "Rahul S",
      "userId": "05974193569914813309"
     },
     "user_tz": -330
    },
    "id": "6ge1yB2om6UV",
    "outputId": "649f882c-dfdc-4bd1-9a19-ab36192923f5"
   },
   "outputs": [
    {
     "data": {
      "text/plain": [
       "count      10357\n",
       "unique      9659\n",
       "top       ROBLOX\n",
       "freq           9\n",
       "Name: App, dtype: object"
      ]
     },
     "execution_count": 19,
     "metadata": {},
     "output_type": "execute_result"
    }
   ],
   "source": [
    "df.App.describe()"
   ]
  },
  {
   "cell_type": "markdown",
   "id": "DfVPqrsSm9qQ",
   "metadata": {
    "id": "DfVPqrsSm9qQ"
   },
   "source": [
    "- ROBLOX has maximum representation. Let's check it."
   ]
  },
  {
   "cell_type": "code",
   "execution_count": 20,
   "id": "_eskY5Ekm8yV",
   "metadata": {
    "ExecuteTime": {
     "end_time": "2022-11-05T19:57:43.517772Z",
     "start_time": "2022-11-05T19:57:43.502148Z"
    },
    "colab": {
     "base_uri": "https://localhost:8080/",
     "height": 0
    },
    "executionInfo": {
     "elapsed": 55,
     "status": "ok",
     "timestamp": 1663226589266,
     "user": {
      "displayName": "Rahul S",
      "userId": "05974193569914813309"
     },
     "user_tz": -330
    },
    "id": "_eskY5Ekm8yV",
    "outputId": "15b5efe8-1f3d-4f7e-ad6c-6c159ea995e7"
   },
   "outputs": [
    {
     "data": {
      "text/html": [
       "<div>\n",
       "<style scoped>\n",
       "    .dataframe tbody tr th:only-of-type {\n",
       "        vertical-align: middle;\n",
       "    }\n",
       "\n",
       "    .dataframe tbody tr th {\n",
       "        vertical-align: top;\n",
       "    }\n",
       "\n",
       "    .dataframe thead th {\n",
       "        text-align: right;\n",
       "    }\n",
       "</style>\n",
       "<table border=\"1\" class=\"dataframe\">\n",
       "  <thead>\n",
       "    <tr style=\"text-align: right;\">\n",
       "      <th></th>\n",
       "      <th>App</th>\n",
       "      <th>Category</th>\n",
       "      <th>Rating</th>\n",
       "      <th>Reviews</th>\n",
       "      <th>Size</th>\n",
       "      <th>Installs</th>\n",
       "      <th>Type</th>\n",
       "      <th>Price</th>\n",
       "      <th>ContentRating</th>\n",
       "      <th>LastUpdated</th>\n",
       "      <th>CurrentVer</th>\n",
       "      <th>AndroidVer</th>\n",
       "    </tr>\n",
       "  </thead>\n",
       "  <tbody>\n",
       "    <tr>\n",
       "      <th>1653</th>\n",
       "      <td>ROBLOX</td>\n",
       "      <td>GAME</td>\n",
       "      <td>4.50000</td>\n",
       "      <td>4447388</td>\n",
       "      <td>67M</td>\n",
       "      <td>100,000,000+</td>\n",
       "      <td>Free</td>\n",
       "      <td>0</td>\n",
       "      <td>Everyone 10+</td>\n",
       "      <td>July 31, 2018</td>\n",
       "      <td>2.347.225742</td>\n",
       "      <td>4.1 and up</td>\n",
       "    </tr>\n",
       "    <tr>\n",
       "      <th>1701</th>\n",
       "      <td>ROBLOX</td>\n",
       "      <td>GAME</td>\n",
       "      <td>4.50000</td>\n",
       "      <td>4447346</td>\n",
       "      <td>67M</td>\n",
       "      <td>100,000,000+</td>\n",
       "      <td>Free</td>\n",
       "      <td>0</td>\n",
       "      <td>Everyone 10+</td>\n",
       "      <td>July 31, 2018</td>\n",
       "      <td>2.347.225742</td>\n",
       "      <td>4.1 and up</td>\n",
       "    </tr>\n",
       "    <tr>\n",
       "      <th>1748</th>\n",
       "      <td>ROBLOX</td>\n",
       "      <td>GAME</td>\n",
       "      <td>4.50000</td>\n",
       "      <td>4448791</td>\n",
       "      <td>67M</td>\n",
       "      <td>100,000,000+</td>\n",
       "      <td>Free</td>\n",
       "      <td>0</td>\n",
       "      <td>Everyone 10+</td>\n",
       "      <td>July 31, 2018</td>\n",
       "      <td>2.347.225742</td>\n",
       "      <td>4.1 and up</td>\n",
       "    </tr>\n",
       "    <tr>\n",
       "      <th>1841</th>\n",
       "      <td>ROBLOX</td>\n",
       "      <td>GAME</td>\n",
       "      <td>4.50000</td>\n",
       "      <td>4449882</td>\n",
       "      <td>67M</td>\n",
       "      <td>100,000,000+</td>\n",
       "      <td>Free</td>\n",
       "      <td>0</td>\n",
       "      <td>Everyone 10+</td>\n",
       "      <td>July 31, 2018</td>\n",
       "      <td>2.347.225742</td>\n",
       "      <td>4.1 and up</td>\n",
       "    </tr>\n",
       "    <tr>\n",
       "      <th>1870</th>\n",
       "      <td>ROBLOX</td>\n",
       "      <td>GAME</td>\n",
       "      <td>4.50000</td>\n",
       "      <td>4449910</td>\n",
       "      <td>67M</td>\n",
       "      <td>100,000,000+</td>\n",
       "      <td>Free</td>\n",
       "      <td>0</td>\n",
       "      <td>Everyone 10+</td>\n",
       "      <td>July 31, 2018</td>\n",
       "      <td>2.347.225742</td>\n",
       "      <td>4.1 and up</td>\n",
       "    </tr>\n",
       "    <tr>\n",
       "      <th>2016</th>\n",
       "      <td>ROBLOX</td>\n",
       "      <td>FAMILY</td>\n",
       "      <td>4.50000</td>\n",
       "      <td>4449910</td>\n",
       "      <td>67M</td>\n",
       "      <td>100,000,000+</td>\n",
       "      <td>Free</td>\n",
       "      <td>0</td>\n",
       "      <td>Everyone 10+</td>\n",
       "      <td>July 31, 2018</td>\n",
       "      <td>2.347.225742</td>\n",
       "      <td>4.1 and up</td>\n",
       "    </tr>\n",
       "    <tr>\n",
       "      <th>2088</th>\n",
       "      <td>ROBLOX</td>\n",
       "      <td>FAMILY</td>\n",
       "      <td>4.50000</td>\n",
       "      <td>4450855</td>\n",
       "      <td>67M</td>\n",
       "      <td>100,000,000+</td>\n",
       "      <td>Free</td>\n",
       "      <td>0</td>\n",
       "      <td>Everyone 10+</td>\n",
       "      <td>July 31, 2018</td>\n",
       "      <td>2.347.225742</td>\n",
       "      <td>4.1 and up</td>\n",
       "    </tr>\n",
       "    <tr>\n",
       "      <th>2206</th>\n",
       "      <td>ROBLOX</td>\n",
       "      <td>FAMILY</td>\n",
       "      <td>4.50000</td>\n",
       "      <td>4450890</td>\n",
       "      <td>67M</td>\n",
       "      <td>100,000,000+</td>\n",
       "      <td>Free</td>\n",
       "      <td>0</td>\n",
       "      <td>Everyone 10+</td>\n",
       "      <td>July 31, 2018</td>\n",
       "      <td>2.347.225742</td>\n",
       "      <td>4.1 and up</td>\n",
       "    </tr>\n",
       "    <tr>\n",
       "      <th>4527</th>\n",
       "      <td>ROBLOX</td>\n",
       "      <td>FAMILY</td>\n",
       "      <td>4.50000</td>\n",
       "      <td>4443407</td>\n",
       "      <td>67M</td>\n",
       "      <td>100,000,000+</td>\n",
       "      <td>Free</td>\n",
       "      <td>0</td>\n",
       "      <td>Everyone 10+</td>\n",
       "      <td>July 31, 2018</td>\n",
       "      <td>2.347.225742</td>\n",
       "      <td>4.1 and up</td>\n",
       "    </tr>\n",
       "  </tbody>\n",
       "</table>\n",
       "</div>"
      ],
      "text/plain": [
       "         App Category  Rating  Reviews Size      Installs  Type Price  \\\n",
       "1653  ROBLOX     GAME 4.50000  4447388  67M  100,000,000+  Free     0   \n",
       "1701  ROBLOX     GAME 4.50000  4447346  67M  100,000,000+  Free     0   \n",
       "1748  ROBLOX     GAME 4.50000  4448791  67M  100,000,000+  Free     0   \n",
       "1841  ROBLOX     GAME 4.50000  4449882  67M  100,000,000+  Free     0   \n",
       "1870  ROBLOX     GAME 4.50000  4449910  67M  100,000,000+  Free     0   \n",
       "2016  ROBLOX   FAMILY 4.50000  4449910  67M  100,000,000+  Free     0   \n",
       "2088  ROBLOX   FAMILY 4.50000  4450855  67M  100,000,000+  Free     0   \n",
       "2206  ROBLOX   FAMILY 4.50000  4450890  67M  100,000,000+  Free     0   \n",
       "4527  ROBLOX   FAMILY 4.50000  4443407  67M  100,000,000+  Free     0   \n",
       "\n",
       "     ContentRating    LastUpdated    CurrentVer  AndroidVer  \n",
       "1653  Everyone 10+  July 31, 2018  2.347.225742  4.1 and up  \n",
       "1701  Everyone 10+  July 31, 2018  2.347.225742  4.1 and up  \n",
       "1748  Everyone 10+  July 31, 2018  2.347.225742  4.1 and up  \n",
       "1841  Everyone 10+  July 31, 2018  2.347.225742  4.1 and up  \n",
       "1870  Everyone 10+  July 31, 2018  2.347.225742  4.1 and up  \n",
       "2016  Everyone 10+  July 31, 2018  2.347.225742  4.1 and up  \n",
       "2088  Everyone 10+  July 31, 2018  2.347.225742  4.1 and up  \n",
       "2206  Everyone 10+  July 31, 2018  2.347.225742  4.1 and up  \n",
       "4527  Everyone 10+  July 31, 2018  2.347.225742  4.1 and up  "
      ]
     },
     "execution_count": 20,
     "metadata": {},
     "output_type": "execute_result"
    }
   ],
   "source": [
    "df[df.App == 'ROBLOX']"
   ]
  },
  {
   "cell_type": "markdown",
   "id": "OMP562ifnQvr",
   "metadata": {
    "id": "OMP562ifnQvr"
   },
   "source": [
    "Everything except 'Reviews' and 'Category' is same for all duplicate samples of ROBLOX. We seem to have data from different times. Maybe at some time, they decided to change the category of the app. \n",
    "I would choose number of reviews to be a defining criteria, keep that record for the app. The latest update should have bigger number of reviews (though it's mysterious how the rating can be same across). But let's not cogitate more. And drop rest of the samples for the set of records for an App, except for the one with maximum reviews- the latest one."
   ]
  },
  {
   "cell_type": "code",
   "execution_count": 21,
   "id": "lbC9Spn7oUuL",
   "metadata": {
    "ExecuteTime": {
     "end_time": "2022-11-05T19:57:43.533395Z",
     "start_time": "2022-11-05T19:57:43.517772Z"
    },
    "executionInfo": {
     "elapsed": 53,
     "status": "ok",
     "timestamp": 1663226589267,
     "user": {
      "displayName": "Rahul S",
      "userId": "05974193569914813309"
     },
     "user_tz": -330
    },
    "id": "lbC9Spn7oUuL"
   },
   "outputs": [],
   "source": [
    "df = df.drop_duplicates(subset=['App'], keep='first')"
   ]
  },
  {
   "cell_type": "markdown",
   "id": "lEaP_EhEpok4",
   "metadata": {
    "id": "lEaP_EhEpok4"
   },
   "source": [
    "Now, let's drop the feature 'App' altogether."
   ]
  },
  {
   "cell_type": "code",
   "execution_count": 22,
   "id": "Y-LZchGmpskR",
   "metadata": {
    "ExecuteTime": {
     "end_time": "2022-11-05T19:57:43.549038Z",
     "start_time": "2022-11-05T19:57:43.533395Z"
    },
    "colab": {
     "base_uri": "https://localhost:8080/"
    },
    "executionInfo": {
     "elapsed": 53,
     "status": "ok",
     "timestamp": 1663226589267,
     "user": {
      "displayName": "Rahul S",
      "userId": "05974193569914813309"
     },
     "user_tz": -330
    },
    "id": "Y-LZchGmpskR",
    "outputId": "6a8fccdc-5260-40a8-cadd-291f6b3ce431"
   },
   "outputs": [],
   "source": [
    "df.drop(columns = ['App'], inplace=True)"
   ]
  },
  {
   "cell_type": "markdown",
   "id": "bEXxmBj306z0",
   "metadata": {
    "id": "bEXxmBj306z0"
   },
   "source": [
    "### Current Ver and Android Ver"
   ]
  },
  {
   "cell_type": "code",
   "execution_count": 23,
   "id": "e9c7eb34-212c-414f-8f88-f8b6e4c0e154",
   "metadata": {
    "ExecuteTime": {
     "end_time": "2022-11-05T19:57:43.564649Z",
     "start_time": "2022-11-05T19:57:43.549038Z"
    }
   },
   "outputs": [
    {
     "data": {
      "text/html": [
       "<div>\n",
       "<style scoped>\n",
       "    .dataframe tbody tr th:only-of-type {\n",
       "        vertical-align: middle;\n",
       "    }\n",
       "\n",
       "    .dataframe tbody tr th {\n",
       "        vertical-align: top;\n",
       "    }\n",
       "\n",
       "    .dataframe thead th {\n",
       "        text-align: right;\n",
       "    }\n",
       "</style>\n",
       "<table border=\"1\" class=\"dataframe\">\n",
       "  <thead>\n",
       "    <tr style=\"text-align: right;\">\n",
       "      <th></th>\n",
       "      <th>AndroidVer</th>\n",
       "      <th>CurrentVer</th>\n",
       "    </tr>\n",
       "  </thead>\n",
       "  <tbody>\n",
       "    <tr>\n",
       "      <th>176</th>\n",
       "      <td>4.0.3 and up</td>\n",
       "      <td>3.05</td>\n",
       "    </tr>\n",
       "    <tr>\n",
       "      <th>3357</th>\n",
       "      <td>4.4 and up</td>\n",
       "      <td>Varies with device</td>\n",
       "    </tr>\n",
       "    <tr>\n",
       "      <th>9286</th>\n",
       "      <td>4.0 and up</td>\n",
       "      <td>1.0.38</td>\n",
       "    </tr>\n",
       "    <tr>\n",
       "      <th>5102</th>\n",
       "      <td>4.4 and up</td>\n",
       "      <td>1.24.1</td>\n",
       "    </tr>\n",
       "    <tr>\n",
       "      <th>1779</th>\n",
       "      <td>4.3 and up</td>\n",
       "      <td>1.0.2</td>\n",
       "    </tr>\n",
       "  </tbody>\n",
       "</table>\n",
       "</div>"
      ],
      "text/plain": [
       "        AndroidVer          CurrentVer\n",
       "176   4.0.3 and up                3.05\n",
       "3357    4.4 and up  Varies with device\n",
       "9286    4.0 and up              1.0.38\n",
       "5102    4.4 and up              1.24.1\n",
       "1779    4.3 and up               1.0.2"
      ]
     },
     "execution_count": 23,
     "metadata": {},
     "output_type": "execute_result"
    }
   ],
   "source": [
    "df[['AndroidVer','CurrentVer']].sample(5)"
   ]
  },
  {
   "cell_type": "markdown",
   "id": "Dgy2KdB00-4g",
   "metadata": {
    "id": "Dgy2KdB00-4g"
   },
   "source": [
    "The versions of the app and of the Android on the phone have some role to play in deciding the rating of the app. Some versions of the app turn out to be so great that users rate the app highly and some versions disappoint the users, but there is no general trend. And there is no quantatitive way via which we can rank the versions across all the apps. I mean, it would be counterintuitive to convert an AndroidVer value of say '4.2 and up' into 4.2 and claim that 4.4 is better than this. In the same way, we cannot compare CurrentVer values such as 1.3 and 1.0.6. For these reasons, I will drop them."
   ]
  },
  {
   "cell_type": "code",
   "execution_count": 24,
   "id": "3o-rCYi21YJL",
   "metadata": {
    "ExecuteTime": {
     "end_time": "2022-11-05T19:57:43.580271Z",
     "start_time": "2022-11-05T19:57:43.564649Z"
    },
    "executionInfo": {
     "elapsed": 52,
     "status": "ok",
     "timestamp": 1663226589268,
     "user": {
      "displayName": "Rahul S",
      "userId": "05974193569914813309"
     },
     "user_tz": -330
    },
    "id": "3o-rCYi21YJL"
   },
   "outputs": [],
   "source": [
    "df = df.drop(columns = ['AndroidVer','CurrentVer'])"
   ]
  },
  {
   "cell_type": "markdown",
   "id": "TAi3syZI2Jfw",
   "metadata": {
    "id": "TAi3syZI2Jfw"
   },
   "source": [
    "### Type and Price"
   ]
  },
  {
   "cell_type": "code",
   "execution_count": 25,
   "id": "c608f9b5",
   "metadata": {
    "ExecuteTime": {
     "end_time": "2022-11-05T19:57:43.595888Z",
     "start_time": "2022-11-05T19:57:43.580271Z"
    },
    "scrolled": true
   },
   "outputs": [
    {
     "data": {
      "text/html": [
       "<div>\n",
       "<style scoped>\n",
       "    .dataframe tbody tr th:only-of-type {\n",
       "        vertical-align: middle;\n",
       "    }\n",
       "\n",
       "    .dataframe tbody tr th {\n",
       "        vertical-align: top;\n",
       "    }\n",
       "\n",
       "    .dataframe thead th {\n",
       "        text-align: right;\n",
       "    }\n",
       "</style>\n",
       "<table border=\"1\" class=\"dataframe\">\n",
       "  <thead>\n",
       "    <tr style=\"text-align: right;\">\n",
       "      <th></th>\n",
       "      <th>Type</th>\n",
       "      <th>Price</th>\n",
       "    </tr>\n",
       "  </thead>\n",
       "  <tbody>\n",
       "    <tr>\n",
       "      <th>6260</th>\n",
       "      <td>Free</td>\n",
       "      <td>0</td>\n",
       "    </tr>\n",
       "    <tr>\n",
       "      <th>6743</th>\n",
       "      <td>Free</td>\n",
       "      <td>0</td>\n",
       "    </tr>\n",
       "    <tr>\n",
       "      <th>8319</th>\n",
       "      <td>Free</td>\n",
       "      <td>0</td>\n",
       "    </tr>\n",
       "    <tr>\n",
       "      <th>3333</th>\n",
       "      <td>Free</td>\n",
       "      <td>0</td>\n",
       "    </tr>\n",
       "    <tr>\n",
       "      <th>2040</th>\n",
       "      <td>Free</td>\n",
       "      <td>0</td>\n",
       "    </tr>\n",
       "    <tr>\n",
       "      <th>7264</th>\n",
       "      <td>Free</td>\n",
       "      <td>0</td>\n",
       "    </tr>\n",
       "    <tr>\n",
       "      <th>3897</th>\n",
       "      <td>Free</td>\n",
       "      <td>0</td>\n",
       "    </tr>\n",
       "    <tr>\n",
       "      <th>9037</th>\n",
       "      <td>Free</td>\n",
       "      <td>0</td>\n",
       "    </tr>\n",
       "    <tr>\n",
       "      <th>3663</th>\n",
       "      <td>Free</td>\n",
       "      <td>0</td>\n",
       "    </tr>\n",
       "    <tr>\n",
       "      <th>4267</th>\n",
       "      <td>Free</td>\n",
       "      <td>0</td>\n",
       "    </tr>\n",
       "    <tr>\n",
       "      <th>10193</th>\n",
       "      <td>Free</td>\n",
       "      <td>0</td>\n",
       "    </tr>\n",
       "    <tr>\n",
       "      <th>6663</th>\n",
       "      <td>Free</td>\n",
       "      <td>0</td>\n",
       "    </tr>\n",
       "    <tr>\n",
       "      <th>3875</th>\n",
       "      <td>Free</td>\n",
       "      <td>0</td>\n",
       "    </tr>\n",
       "    <tr>\n",
       "      <th>8527</th>\n",
       "      <td>Free</td>\n",
       "      <td>0</td>\n",
       "    </tr>\n",
       "    <tr>\n",
       "      <th>8899</th>\n",
       "      <td>Free</td>\n",
       "      <td>0</td>\n",
       "    </tr>\n",
       "    <tr>\n",
       "      <th>3028</th>\n",
       "      <td>Free</td>\n",
       "      <td>0</td>\n",
       "    </tr>\n",
       "    <tr>\n",
       "      <th>3607</th>\n",
       "      <td>Free</td>\n",
       "      <td>0</td>\n",
       "    </tr>\n",
       "    <tr>\n",
       "      <th>618</th>\n",
       "      <td>Free</td>\n",
       "      <td>0</td>\n",
       "    </tr>\n",
       "    <tr>\n",
       "      <th>440</th>\n",
       "      <td>Free</td>\n",
       "      <td>0</td>\n",
       "    </tr>\n",
       "    <tr>\n",
       "      <th>4195</th>\n",
       "      <td>Free</td>\n",
       "      <td>0</td>\n",
       "    </tr>\n",
       "  </tbody>\n",
       "</table>\n",
       "</div>"
      ],
      "text/plain": [
       "       Type Price\n",
       "6260   Free     0\n",
       "6743   Free     0\n",
       "8319   Free     0\n",
       "3333   Free     0\n",
       "2040   Free     0\n",
       "7264   Free     0\n",
       "3897   Free     0\n",
       "9037   Free     0\n",
       "3663   Free     0\n",
       "4267   Free     0\n",
       "10193  Free     0\n",
       "6663   Free     0\n",
       "3875   Free     0\n",
       "8527   Free     0\n",
       "8899   Free     0\n",
       "3028   Free     0\n",
       "3607   Free     0\n",
       "618    Free     0\n",
       "440    Free     0\n",
       "4195   Free     0"
      ]
     },
     "execution_count": 25,
     "metadata": {},
     "output_type": "execute_result"
    }
   ],
   "source": [
    "df[['Type','Price']].sample(20)"
   ]
  },
  {
   "cell_type": "markdown",
   "id": "I2yGPHbt2PnU",
   "metadata": {
    "id": "I2yGPHbt2PnU"
   },
   "source": [
    "From the very definition of the two features, it is clear that if the 'Type' of the App is free, its 'Price' would be zero. Thus the information stored in feature 'App' is already there in the feature 'Price'. So, I will drop the 'Type' feature and process the 'Price' one."
   ]
  },
  {
   "cell_type": "code",
   "execution_count": 26,
   "id": "11-A_sgs3iZr",
   "metadata": {
    "ExecuteTime": {
     "end_time": "2022-11-05T19:57:43.611531Z",
     "start_time": "2022-11-05T19:57:43.595888Z"
    },
    "executionInfo": {
     "elapsed": 51,
     "status": "ok",
     "timestamp": 1663226589270,
     "user": {
      "displayName": "Rahul S",
      "userId": "05974193569914813309"
     },
     "user_tz": -330
    },
    "id": "11-A_sgs3iZr"
   },
   "outputs": [],
   "source": [
    "df.drop(columns= ['Type'], inplace=True)"
   ]
  },
  {
   "cell_type": "code",
   "execution_count": 27,
   "id": "8b687e88",
   "metadata": {
    "ExecuteTime": {
     "end_time": "2022-11-05T19:57:43.627134Z",
     "start_time": "2022-11-05T19:57:43.611531Z"
    }
   },
   "outputs": [],
   "source": [
    "# stripping $ off values under Price feature\n",
    "df['Price'] = df['Price'].apply(lambda x: x.strip('$'))\n",
    "df['Price'] = pd.to_numeric(df['Price'])"
   ]
  },
  {
   "cell_type": "code",
   "execution_count": 28,
   "id": "bbf22ff3",
   "metadata": {
    "ExecuteTime": {
     "end_time": "2022-11-05T19:57:43.658400Z",
     "start_time": "2022-11-05T19:57:43.627134Z"
    }
   },
   "outputs": [
    {
     "name": "stdout",
     "output_type": "stream",
     "text": [
      "<class 'pandas.core.frame.DataFrame'>\n",
      "Int64Index: 9659 entries, 0 to 10840\n",
      "Data columns (total 8 columns):\n",
      " #   Column         Non-Null Count  Dtype  \n",
      "---  ------         --------------  -----  \n",
      " 0   Category       9659 non-null   object \n",
      " 1   Rating         8196 non-null   float64\n",
      " 2   Reviews        9659 non-null   object \n",
      " 3   Size           9659 non-null   object \n",
      " 4   Installs       9659 non-null   object \n",
      " 5   Price          9659 non-null   float64\n",
      " 6   ContentRating  9659 non-null   object \n",
      " 7   LastUpdated    9659 non-null   object \n",
      "dtypes: float64(2), object(6)\n",
      "memory usage: 679.1+ KB\n"
     ]
    }
   ],
   "source": [
    "df.info()"
   ]
  },
  {
   "cell_type": "markdown",
   "id": "d65f171a",
   "metadata": {
    "id": "d65f171a"
   },
   "source": [
    "### Rating"
   ]
  },
  {
   "cell_type": "code",
   "execution_count": 29,
   "id": "3522c805",
   "metadata": {
    "ExecuteTime": {
     "end_time": "2022-11-05T19:57:43.674026Z",
     "start_time": "2022-11-05T19:57:43.658400Z"
    },
    "colab": {
     "base_uri": "https://localhost:8080/"
    },
    "executionInfo": {
     "elapsed": 51,
     "status": "ok",
     "timestamp": 1663226589270,
     "user": {
      "displayName": "Rahul S",
      "userId": "05974193569914813309"
     },
     "user_tz": -330
    },
    "id": "3522c805",
    "outputId": "f0a8620a-9c3d-4f3c-dda9-7d657daee7eb",
    "scrolled": true
   },
   "outputs": [
    {
     "data": {
      "text/plain": [
       "count   8196.00000\n",
       "mean       4.17324\n",
       "std        0.53662\n",
       "min        1.00000\n",
       "25%        4.00000\n",
       "50%        4.30000\n",
       "75%        4.50000\n",
       "max        5.00000\n",
       "Name: Rating, dtype: float64"
      ]
     },
     "execution_count": 29,
     "metadata": {},
     "output_type": "execute_result"
    }
   ],
   "source": [
    "df.Rating.describe()"
   ]
  },
  {
   "cell_type": "markdown",
   "id": "e0e455f7",
   "metadata": {
    "id": "e0e455f7"
   },
   "source": [
    "We don't have any Rating with value over 5. There was one with value 19, but we have already gotten rid of it. Now, 15 percent of the samples have missing 'Rating' values. This is a significant number specially when we consider the fact that 'Rating' is the feature to be predicted. We have to be careful about our analysis. We cannot just feed medians without proper justification. Let's draw a boxplot to understand the range of ratings. "
   ]
  },
  {
   "cell_type": "code",
   "execution_count": 30,
   "id": "ea115982",
   "metadata": {
    "ExecuteTime": {
     "end_time": "2022-11-05T19:57:43.689637Z",
     "start_time": "2022-11-05T19:57:43.674026Z"
    }
   },
   "outputs": [],
   "source": [
    "def num_uni_anal(data, feature):\n",
    "    print(f'Skewness of {feature} is:', round(data[feature].skew(),3))\n",
    "    sns.displot(x=data[feature], kde=True)\n",
    "    plt.title(f'Distribution plot of {feature}')\n",
    "    plt.axvline(data[feature].mean(), color='red')\n",
    "    plt.axvline(data[feature].median(), color='green')\n",
    "    plt.show()\n",
    "    \n",
    "    print('-----------------------------')\n",
    "    print('Five point summary is: \\n',data[feature].describe())"
   ]
  },
  {
   "cell_type": "code",
   "execution_count": 31,
   "id": "IEIgBg6SGxJ_",
   "metadata": {
    "ExecuteTime": {
     "end_time": "2022-11-05T19:57:44.173953Z",
     "start_time": "2022-11-05T19:57:43.689637Z"
    },
    "colab": {
     "base_uri": "https://localhost:8080/",
     "height": 0
    },
    "executionInfo": {
     "elapsed": 50,
     "status": "ok",
     "timestamp": 1663226589270,
     "user": {
      "displayName": "Rahul S",
      "userId": "05974193569914813309"
     },
     "user_tz": -330
    },
    "id": "IEIgBg6SGxJ_",
    "outputId": "b79c0197-f6dd-44f0-d46f-3d8c112ed78d"
   },
   "outputs": [
    {
     "name": "stdout",
     "output_type": "stream",
     "text": [
      "Skewness of Rating is: -1.744\n"
     ]
    },
    {
     "data": {
      "image/png": "[encoded data removed]",
      "text/plain": [
       "<Figure size 500x500 with 1 Axes>"
      ]
     },
     "metadata": {},
     "output_type": "display_data"
    },
    {
     "name": "stdout",
     "output_type": "stream",
     "text": [
      "-----------------------------\n",
      "Five point summary is: \n",
      " count   8196.00000\n",
      "mean       4.17324\n",
      "std        0.53662\n",
      "min        1.00000\n",
      "25%        4.00000\n",
      "50%        4.30000\n",
      "75%        4.50000\n",
      "max        5.00000\n",
      "Name: Rating, dtype: float64\n"
     ]
    }
   ],
   "source": [
    "num_uni_anal(df, 'Rating')"
   ]
  },
  {
   "cell_type": "markdown",
   "id": "SvKQhJbtHEHp",
   "metadata": {
    "id": "SvKQhJbtHEHp"
   },
   "source": [
    "The ratings are highly left skewed and most of the values are around 4.4. Generally, on Goole Store, we do find such trend. People give the rating highly if the product is free and it serves the purpose. Low ratings are given to particular products only- that are very bad. Let's check the number of downloads of those records which don't have 'Rating' values. I would be careful about giving someone a very high rating with very large userbase, because that is a rare case. Often with an increase in the userbase, we find a decrease in the rating."
   ]
  },
  {
   "cell_type": "code",
   "execution_count": 32,
   "id": "9PY8tjMIl3A0",
   "metadata": {
    "ExecuteTime": {
     "end_time": "2022-11-05T19:57:44.189575Z",
     "start_time": "2022-11-05T19:57:44.173953Z"
    },
    "colab": {
     "base_uri": "https://localhost:8080/",
     "height": 0
    },
    "executionInfo": {
     "elapsed": 51,
     "status": "ok",
     "timestamp": 1663226589271,
     "user": {
      "displayName": "Rahul S",
      "userId": "05974193569914813309"
     },
     "user_tz": -330
    },
    "id": "9PY8tjMIl3A0",
    "outputId": "3f136d3a-17a6-48f2-f92a-d1cdb80bb69b"
   },
   "outputs": [
    {
     "data": {
      "text/html": [
       "<div>\n",
       "<style scoped>\n",
       "    .dataframe tbody tr th:only-of-type {\n",
       "        vertical-align: middle;\n",
       "    }\n",
       "\n",
       "    .dataframe tbody tr th {\n",
       "        vertical-align: top;\n",
       "    }\n",
       "\n",
       "    .dataframe thead th {\n",
       "        text-align: right;\n",
       "    }\n",
       "</style>\n",
       "<table border=\"1\" class=\"dataframe\">\n",
       "  <thead>\n",
       "    <tr style=\"text-align: right;\">\n",
       "      <th></th>\n",
       "      <th>Category</th>\n",
       "      <th>Rating</th>\n",
       "      <th>Reviews</th>\n",
       "      <th>Size</th>\n",
       "      <th>Installs</th>\n",
       "      <th>Price</th>\n",
       "      <th>ContentRating</th>\n",
       "      <th>LastUpdated</th>\n",
       "    </tr>\n",
       "  </thead>\n",
       "  <tbody>\n",
       "    <tr>\n",
       "      <th>10825</th>\n",
       "      <td>SOCIAL</td>\n",
       "      <td>NaN</td>\n",
       "      <td>7</td>\n",
       "      <td>7.7M</td>\n",
       "      <td>100+</td>\n",
       "      <td>0.00000</td>\n",
       "      <td>Teen</td>\n",
       "      <td>February 2, 2018</td>\n",
       "    </tr>\n",
       "    <tr>\n",
       "      <th>10214</th>\n",
       "      <td>SOCIAL</td>\n",
       "      <td>NaN</td>\n",
       "      <td>4</td>\n",
       "      <td>5.1M</td>\n",
       "      <td>500+</td>\n",
       "      <td>0.00000</td>\n",
       "      <td>Everyone</td>\n",
       "      <td>December 23, 2017</td>\n",
       "    </tr>\n",
       "    <tr>\n",
       "      <th>9962</th>\n",
       "      <td>HOUSE_AND_HOME</td>\n",
       "      <td>NaN</td>\n",
       "      <td>13</td>\n",
       "      <td>43M</td>\n",
       "      <td>100+</td>\n",
       "      <td>0.00000</td>\n",
       "      <td>Everyone</td>\n",
       "      <td>April 18, 2018</td>\n",
       "    </tr>\n",
       "    <tr>\n",
       "      <th>9660</th>\n",
       "      <td>BUSINESS</td>\n",
       "      <td>NaN</td>\n",
       "      <td>0</td>\n",
       "      <td>6.3M</td>\n",
       "      <td>10+</td>\n",
       "      <td>0.00000</td>\n",
       "      <td>Everyone</td>\n",
       "      <td>September 27, 2017</td>\n",
       "    </tr>\n",
       "    <tr>\n",
       "      <th>5289</th>\n",
       "      <td>PERSONALIZATION</td>\n",
       "      <td>NaN</td>\n",
       "      <td>7</td>\n",
       "      <td>4.9M</td>\n",
       "      <td>500+</td>\n",
       "      <td>0.00000</td>\n",
       "      <td>Everyone</td>\n",
       "      <td>March 14, 2018</td>\n",
       "    </tr>\n",
       "    <tr>\n",
       "      <th>4265</th>\n",
       "      <td>COMMUNICATION</td>\n",
       "      <td>NaN</td>\n",
       "      <td>2</td>\n",
       "      <td>13M</td>\n",
       "      <td>10+</td>\n",
       "      <td>1.99000</td>\n",
       "      <td>Everyone</td>\n",
       "      <td>May 3, 2017</td>\n",
       "    </tr>\n",
       "    <tr>\n",
       "      <th>185</th>\n",
       "      <td>BOOKS_AND_REFERENCE</td>\n",
       "      <td>NaN</td>\n",
       "      <td>114</td>\n",
       "      <td>7.3M</td>\n",
       "      <td>100,000+</td>\n",
       "      <td>0.00000</td>\n",
       "      <td>Everyone</td>\n",
       "      <td>August 7, 2015</td>\n",
       "    </tr>\n",
       "    <tr>\n",
       "      <th>8243</th>\n",
       "      <td>MAPS_AND_NAVIGATION</td>\n",
       "      <td>NaN</td>\n",
       "      <td>9</td>\n",
       "      <td>10M</td>\n",
       "      <td>1,000+</td>\n",
       "      <td>0.00000</td>\n",
       "      <td>Everyone</td>\n",
       "      <td>May 21, 2018</td>\n",
       "    </tr>\n",
       "    <tr>\n",
       "      <th>1469</th>\n",
       "      <td>HOUSE_AND_HOME</td>\n",
       "      <td>NaN</td>\n",
       "      <td>12</td>\n",
       "      <td>5.1M</td>\n",
       "      <td>5,000+</td>\n",
       "      <td>0.00000</td>\n",
       "      <td>Everyone</td>\n",
       "      <td>July 12, 2018</td>\n",
       "    </tr>\n",
       "    <tr>\n",
       "      <th>10700</th>\n",
       "      <td>COMMUNICATION</td>\n",
       "      <td>NaN</td>\n",
       "      <td>4</td>\n",
       "      <td>16M</td>\n",
       "      <td>1,000+</td>\n",
       "      <td>0.00000</td>\n",
       "      <td>Everyone</td>\n",
       "      <td>January 25, 2018</td>\n",
       "    </tr>\n",
       "  </tbody>\n",
       "</table>\n",
       "</div>"
      ],
      "text/plain": [
       "                  Category  Rating Reviews  Size  Installs   Price  \\\n",
       "10825               SOCIAL     NaN       7  7.7M      100+ 0.00000   \n",
       "10214               SOCIAL     NaN       4  5.1M      500+ 0.00000   \n",
       "9962        HOUSE_AND_HOME     NaN      13   43M      100+ 0.00000   \n",
       "9660              BUSINESS     NaN       0  6.3M       10+ 0.00000   \n",
       "5289       PERSONALIZATION     NaN       7  4.9M      500+ 0.00000   \n",
       "4265         COMMUNICATION     NaN       2   13M       10+ 1.99000   \n",
       "185    BOOKS_AND_REFERENCE     NaN     114  7.3M  100,000+ 0.00000   \n",
       "8243   MAPS_AND_NAVIGATION     NaN       9   10M    1,000+ 0.00000   \n",
       "1469        HOUSE_AND_HOME     NaN      12  5.1M    5,000+ 0.00000   \n",
       "10700        COMMUNICATION     NaN       4   16M    1,000+ 0.00000   \n",
       "\n",
       "      ContentRating         LastUpdated  \n",
       "10825          Teen    February 2, 2018  \n",
       "10214      Everyone   December 23, 2017  \n",
       "9962       Everyone      April 18, 2018  \n",
       "9660       Everyone  September 27, 2017  \n",
       "5289       Everyone      March 14, 2018  \n",
       "4265       Everyone         May 3, 2017  \n",
       "185        Everyone      August 7, 2015  \n",
       "8243       Everyone        May 21, 2018  \n",
       "1469       Everyone       July 12, 2018  \n",
       "10700      Everyone    January 25, 2018  "
      ]
     },
     "execution_count": 32,
     "metadata": {},
     "output_type": "execute_result"
    }
   ],
   "source": [
    "# 10 samples from the records for which we do not have any ratings\n",
    "\n",
    "df[df['Rating'].isna()].sample(10)"
   ]
  },
  {
   "cell_type": "markdown",
   "id": "p0RS9PAW5k8R",
   "metadata": {
    "id": "p0RS9PAW5k8R"
   },
   "source": [
    "It appears that most of samples that have missing Rating have a very low number of installs. That is expected. Google does not allow 'Rating' to appear in the case of new apps with very low userbase. Also, whenever an uploader uploads their app, they make sure it has ratings on the higher side by asking their friends and family. So even if they have a very high value, they do not correspond to usual user behavior. So manybe dropping the samples with no Rating would be a good idea.In addition, Rating is out predictive feature. We cannot feed in missing values of this feature with artificial data just like that. We have to drop all the samples with null Rating values."
   ]
  },
  {
   "cell_type": "code",
   "execution_count": 33,
   "id": "Qa6pQKhrQFoS",
   "metadata": {
    "ExecuteTime": {
     "end_time": "2022-11-05T19:57:44.205297Z",
     "start_time": "2022-11-05T19:57:44.189575Z"
    },
    "executionInfo": {
     "elapsed": 49,
     "status": "ok",
     "timestamp": 1663226589271,
     "user": {
      "displayName": "Rahul S",
      "userId": "05974193569914813309"
     },
     "user_tz": -330
    },
    "id": "Qa6pQKhrQFoS"
   },
   "outputs": [],
   "source": [
    "df = df.dropna(subset=['Rating']) "
   ]
  },
  {
   "cell_type": "markdown",
   "id": "bfWcm1L7Qo1T",
   "metadata": {
    "id": "bfWcm1L7Qo1T"
   },
   "source": [
    "Let's check the status of missing values now."
   ]
  },
  {
   "cell_type": "code",
   "execution_count": 34,
   "id": "j-LX5xFpQu1q",
   "metadata": {
    "ExecuteTime": {
     "end_time": "2022-11-05T19:57:44.236538Z",
     "start_time": "2022-11-05T19:57:44.205297Z"
    },
    "colab": {
     "base_uri": "https://localhost:8080/"
    },
    "executionInfo": {
     "elapsed": 50,
     "status": "ok",
     "timestamp": 1663226589272,
     "user": {
      "displayName": "Rahul S",
      "userId": "05974193569914813309"
     },
     "user_tz": -330
    },
    "id": "j-LX5xFpQu1q",
    "outputId": "45b3a9b0-3c85-4fa8-c494-df5b99cb4d3f"
   },
   "outputs": [
    {
     "name": "stdout",
     "output_type": "stream",
     "text": [
      "               net_missing  %missing\n",
      "Category                 0   0.00000\n",
      "Rating                   0   0.00000\n",
      "Reviews                  0   0.00000\n",
      "Size                     0   0.00000\n",
      "Installs                 0   0.00000\n",
      "Price                    0   0.00000\n",
      "ContentRating            0   0.00000\n",
      "LastUpdated              0   0.00000\n"
     ]
    }
   ],
   "source": [
    "missing_data(df)"
   ]
  },
  {
   "cell_type": "markdown",
   "id": "xoVflzUuQ7Rj",
   "metadata": {
    "id": "xoVflzUuQ7Rj"
   },
   "source": [
    "And thus, we don't have missing values in the dataset anymore. We are done with the missing values."
   ]
  },
  {
   "cell_type": "markdown",
   "id": "XLWG_MtDRCwD",
   "metadata": {
    "id": "XLWG_MtDRCwD"
   },
   "source": [
    "## EDA and Feature Engineering"
   ]
  },
  {
   "cell_type": "markdown",
   "id": "fjfkpaE9R0re",
   "metadata": {
    "id": "fjfkpaE9R0re"
   },
   "source": [
    "My approach is to analyze each feature one by one and take any actions if needed. "
   ]
  },
  {
   "cell_type": "markdown",
   "id": "imHzF3BdaXn0",
   "metadata": {
    "id": "imHzF3BdaXn0"
   },
   "source": [
    "### Installs"
   ]
  },
  {
   "cell_type": "code",
   "execution_count": 35,
   "id": "uf7ArUKSaZfz",
   "metadata": {
    "ExecuteTime": {
     "end_time": "2022-11-05T19:57:44.252078Z",
     "start_time": "2022-11-05T19:57:44.236538Z"
    },
    "colab": {
     "base_uri": "https://localhost:8080/"
    },
    "executionInfo": {
     "elapsed": 532,
     "status": "ok",
     "timestamp": 1661739898679,
     "user": {
      "displayName": "Rahul S",
      "userId": "05974193569914813309"
     },
     "user_tz": -330
    },
    "id": "uf7ArUKSaZfz",
    "outputId": "7f42b929-6f02-4068-924f-8f2a5bd2793d"
   },
   "outputs": [
    {
     "data": {
      "text/plain": [
       "Installs\n",
       "1,000,000+        1415\n",
       "100,000+          1094\n",
       "10,000+            987\n",
       "10,000,000+        937\n",
       "1,000+             697\n",
       "5,000,000+         607\n",
       "500,000+           504\n",
       "50,000+            457\n",
       "5,000+             425\n",
       "100+               303\n",
       "50,000,000+        202\n",
       "500+               199\n",
       "100,000,000+       188\n",
       "10+                 69\n",
       "50+                 56\n",
       "500,000,000+        24\n",
       "1,000,000,000+      20\n",
       "5+                   9\n",
       "1+                   3\n",
       "dtype: int64"
      ]
     },
     "execution_count": 35,
     "metadata": {},
     "output_type": "execute_result"
    }
   ],
   "source": [
    "df.value_counts('Installs')"
   ]
  },
  {
   "cell_type": "markdown",
   "id": "LT3XiQyVavic",
   "metadata": {
    "id": "LT3XiQyVavic"
   },
   "source": [
    "We will use extract operator on the Series, extract the numerical values from the strings and then typecaste them into numerals."
   ]
  },
  {
   "cell_type": "code",
   "execution_count": 36,
   "id": "8F20kpoqa_n9",
   "metadata": {
    "ExecuteTime": {
     "end_time": "2022-11-05T19:57:44.283322Z",
     "start_time": "2022-11-05T19:57:44.252078Z"
    },
    "id": "8F20kpoqa_n9"
   },
   "outputs": [],
   "source": [
    "df['Installs'] = df['Installs'].str.extract(\"([0-9]+)\", expand=True).apply(pd.to_numeric)"
   ]
  },
  {
   "cell_type": "markdown",
   "id": "0d62fa85",
   "metadata": {},
   "source": [
    "We do not care about the probability distrbution of features because we are going to depend on Decision Trees and its ensembling versions"
   ]
  },
  {
   "cell_type": "markdown",
   "id": "FaqqCQ-oeliF",
   "metadata": {
    "id": "FaqqCQ-oeliF"
   },
   "source": [
    "### Category"
   ]
  },
  {
   "cell_type": "code",
   "execution_count": 37,
   "id": "HU-9-jNEenC6",
   "metadata": {
    "ExecuteTime": {
     "end_time": "2022-11-05T19:57:44.298945Z",
     "start_time": "2022-11-05T19:57:44.283322Z"
    },
    "colab": {
     "base_uri": "https://localhost:8080/"
    },
    "executionInfo": {
     "elapsed": 16,
     "status": "ok",
     "timestamp": 1660023294853,
     "user": {
      "displayName": "Rahul S",
      "userId": "05974193569914813309"
     },
     "user_tz": -330
    },
    "id": "HU-9-jNEenC6",
    "outputId": "2c4a2768-9ef2-4a55-d131-e54bd0cbc03a"
   },
   "outputs": [
    {
     "data": {
      "text/plain": [
       "FAMILY                 1608\n",
       "GAME                    912\n",
       "TOOLS                   718\n",
       "FINANCE                 302\n",
       "PRODUCTIVITY            301\n",
       "LIFESTYLE               301\n",
       "PERSONALIZATION         298\n",
       "MEDICAL                 290\n",
       "BUSINESS                263\n",
       "PHOTOGRAPHY             263\n",
       "SPORTS                  260\n",
       "COMMUNICATION           256\n",
       "HEALTH_AND_FITNESS      244\n",
       "NEWS_AND_MAGAZINES      204\n",
       "SOCIAL                  203\n",
       "TRAVEL_AND_LOCAL        187\n",
       "SHOPPING                180\n",
       "BOOKS_AND_REFERENCE     169\n",
       "VIDEO_PLAYERS           148\n",
       "DATING                  134\n",
       "MAPS_AND_NAVIGATION     118\n",
       "EDUCATION               118\n",
       "ENTERTAINMENT           102\n",
       "FOOD_AND_DRINK           94\n",
       "AUTO_AND_VEHICLES        73\n",
       "WEATHER                  72\n",
       "LIBRARIES_AND_DEMO       64\n",
       "HOUSE_AND_HOME           62\n",
       "ART_AND_DESIGN           61\n",
       "COMICS                   54\n",
       "PARENTING                50\n",
       "EVENTS                   45\n",
       "BEAUTY                   42\n",
       "Name: Category, dtype: int64"
      ]
     },
     "execution_count": 37,
     "metadata": {},
     "output_type": "execute_result"
    }
   ],
   "source": [
    "df['Category'].value_counts()"
   ]
  },
  {
   "cell_type": "markdown",
   "id": "pwtU_FA2j71N",
   "metadata": {
    "id": "pwtU_FA2j71N"
   },
   "source": [
    "These categories have been suggested by Google, and we have to take them as they are. One this is clear now. I am going to LabelEncode data and I will not use Parametric algorithms which tend to rate a data as high or low based on its mathematical value."
   ]
  },
  {
   "cell_type": "markdown",
   "id": "0bAGUFJsk5IQ",
   "metadata": {
    "id": "0bAGUFJsk5IQ"
   },
   "source": [
    "### Review"
   ]
  },
  {
   "cell_type": "code",
   "execution_count": 38,
   "id": "e01zQ_8uk4J5",
   "metadata": {
    "ExecuteTime": {
     "end_time": "2022-11-05T19:57:44.314568Z",
     "start_time": "2022-11-05T19:57:44.298945Z"
    },
    "colab": {
     "base_uri": "https://localhost:8080/"
    },
    "executionInfo": {
     "elapsed": 14,
     "status": "ok",
     "timestamp": 1660023294854,
     "user": {
      "displayName": "Rahul S",
      "userId": "05974193569914813309"
     },
     "user_tz": -330
    },
    "id": "e01zQ_8uk4J5",
    "outputId": "ffbc6b90-707e-480c-dcab-6663763dcf80"
   },
   "outputs": [
    {
     "data": {
      "text/plain": [
       "count     8196\n",
       "unique    5321\n",
       "top          2\n",
       "freq        82\n",
       "Name: Reviews, dtype: object"
      ]
     },
     "execution_count": 38,
     "metadata": {},
     "output_type": "execute_result"
    }
   ],
   "source": [
    "df.Reviews.describe().T"
   ]
  },
  {
   "cell_type": "markdown",
   "id": "jmfqHN21lObV",
   "metadata": {
    "id": "jmfqHN21lObV"
   },
   "source": [
    "This feature contains the number of reviews the app has received. But they are in string/object form. We have to convert them into numeric. If we are not able to convert a few into numeric, it would mean that those are non-numeric, and we will get rid of those samples."
   ]
  },
  {
   "cell_type": "code",
   "execution_count": 39,
   "id": "6owfMhkBlrbG",
   "metadata": {
    "ExecuteTime": {
     "end_time": "2022-11-05T19:57:44.330215Z",
     "start_time": "2022-11-05T19:57:44.314568Z"
    },
    "id": "6owfMhkBlrbG"
   },
   "outputs": [],
   "source": [
    "df.Reviews = [int(x) for x in df.Reviews]"
   ]
  },
  {
   "cell_type": "markdown",
   "id": "eZ1ZsR205u2T",
   "metadata": {
    "id": "eZ1ZsR205u2T"
   },
   "source": [
    "### Size"
   ]
  },
  {
   "cell_type": "markdown",
   "id": "mufba4Wm5wLT",
   "metadata": {
    "id": "mufba4Wm5wLT"
   },
   "source": [
    "- The column 'Size' contains alphanumeric values, handle the non numeric data and convert the column into suitable datatype. (hint: Replace M with 1 million and K with 1 thousand, and drop/impute the entries where size='Varies with device'). "
   ]
  },
  {
   "cell_type": "markdown",
   "id": "sGWMOADT57XG",
   "metadata": {
    "id": "sGWMOADT57XG"
   },
   "source": [
    "Size feature contains values of size of the apps."
   ]
  },
  {
   "cell_type": "code",
   "execution_count": 40,
   "id": "WJ2hvBd05U6C",
   "metadata": {
    "ExecuteTime": {
     "end_time": "2022-11-05T19:57:44.345808Z",
     "start_time": "2022-11-05T19:57:44.330215Z"
    },
    "colab": {
     "base_uri": "https://localhost:8080/"
    },
    "executionInfo": {
     "elapsed": 15,
     "status": "ok",
     "timestamp": 1660023295803,
     "user": {
      "displayName": "Rahul S",
      "userId": "05974193569914813309"
     },
     "user_tz": -330
    },
    "id": "WJ2hvBd05U6C",
    "outputId": "066789c7-7b21-40f6-8a12-6e678afa6b75"
   },
   "outputs": [
    {
     "data": {
      "text/plain": [
       "count                   8196\n",
       "unique                   414\n",
       "top       Varies with device\n",
       "freq                    1169\n",
       "Name: Size, dtype: object"
      ]
     },
     "execution_count": 40,
     "metadata": {},
     "output_type": "execute_result"
    }
   ],
   "source": [
    "df['Size'].describe().T"
   ]
  },
  {
   "cell_type": "markdown",
   "id": "nfw_P7xi6T8o",
   "metadata": {
    "id": "nfw_P7xi6T8o"
   },
   "source": [
    "The above statistical summary indicates presence of Alphanumeric values in the Size column. Let's check value counts()"
   ]
  },
  {
   "cell_type": "code",
   "execution_count": 41,
   "id": "nuRpLMRx6ckq",
   "metadata": {
    "ExecuteTime": {
     "end_time": "2022-11-05T19:57:44.361431Z",
     "start_time": "2022-11-05T19:57:44.345808Z"
    },
    "colab": {
     "base_uri": "https://localhost:8080/"
    },
    "executionInfo": {
     "elapsed": 14,
     "status": "ok",
     "timestamp": 1660023295804,
     "user": {
      "displayName": "Rahul S",
      "userId": "05974193569914813309"
     },
     "user_tz": -330
    },
    "id": "nuRpLMRx6ckq",
    "outputId": "f7c4002e-ea4c-40a1-8c8c-7c8568e7ed96"
   },
   "outputs": [
    {
     "data": {
      "text/plain": [
       "0      19M\n",
       "1      14M\n",
       "2     8.7M\n",
       "3      25M\n",
       "4     2.8M\n",
       "5     5.6M\n",
       "6      19M\n",
       "7      29M\n",
       "8      33M\n",
       "9     3.1M\n",
       "10     28M\n",
       "11     12M\n",
       "12     20M\n",
       "13     21M\n",
       "14     37M\n",
       "15    2.7M\n",
       "16    5.5M\n",
       "17     17M\n",
       "18     39M\n",
       "19     31M\n",
       "Name: Size, dtype: object"
      ]
     },
     "execution_count": 41,
     "metadata": {},
     "output_type": "execute_result"
    }
   ],
   "source": [
    "df.Size.head(20)"
   ]
  },
  {
   "cell_type": "markdown",
   "id": "lg8mjPFO6rsJ",
   "metadata": {
    "id": "lg8mjPFO6rsJ"
   },
   "source": [
    "A huge number of entries have the value = 'Varies with device'. Rest of the values have either M (MegaByte) or k(KiloByte) in front of a numeric. Let's deal with them one by one. I will convert everything into kilobytes. (kb) We know that 1 MegaByte = 1000 KiloByte So, I will multiply those values we have M in front with 1000."
   ]
  },
  {
   "cell_type": "markdown",
   "id": "ULTDbf3O9mLO",
   "metadata": {
    "id": "ULTDbf3O9mLO"
   },
   "source": [
    "- Since we have no information, we will impute these values with the average of the rest of the values. \n",
    "- That way these devices won't  affect our prediction."
   ]
  },
  {
   "cell_type": "code",
   "execution_count": 42,
   "id": "c09ff963",
   "metadata": {
    "ExecuteTime": {
     "end_time": "2022-11-05T19:57:44.439556Z",
     "start_time": "2022-11-05T19:57:44.361431Z"
    },
    "scrolled": true
   },
   "outputs": [],
   "source": [
    "#Now Convert non nemurice value to 'NaN' value\n",
    "df['Size'][df['Size' ] == 'Varies with devices'] = np.nan\n",
    "#Now Convert M with Million and K with Thousand\n",
    "df['Size'] = df.Size.str.replace('M', 'e6')\n",
    "df['Size'] = df.Size.str.replace('K', 'e3')\n",
    "\n",
    "#Now Convert to the nemuric value\n",
    "df['Size'] = pd.to_numeric(df['Size'], errors = 'coerce')\n",
    "#Replace the \"NaN' Value with Mean \n",
    "df['Size'] = df['Size'].fillna(df['Size'].mean())"
   ]
  },
  {
   "cell_type": "code",
   "execution_count": 43,
   "id": "d3017cd3",
   "metadata": {
    "ExecuteTime": {
     "end_time": "2022-11-05T19:57:44.877192Z",
     "start_time": "2022-11-05T19:57:44.439556Z"
    },
    "scrolled": true
   },
   "outputs": [
    {
     "name": "stdout",
     "output_type": "stream",
     "text": [
      "Skewness of Size is: 1.643\n"
     ]
    },
    {
     "data": {
      "image/png": "[encoded data removed]",
      "text/plain": [
       "<Figure size 500x500 with 1 Axes>"
      ]
     },
     "metadata": {},
     "output_type": "display_data"
    },
    {
     "name": "stdout",
     "output_type": "stream",
     "text": [
      "-----------------------------\n",
      "Five point summary is: \n",
      " count        8196.00000\n",
      "mean     22560670.50657\n",
      "std      20689903.50297\n",
      "min       1000000.00000\n",
      "25%       6800000.00000\n",
      "50%      20000000.00000\n",
      "75%      27000000.00000\n",
      "max     100000000.00000\n",
      "Name: Size, dtype: float64\n"
     ]
    }
   ],
   "source": [
    "num_uni_anal(df, 'Size')"
   ]
  },
  {
   "cell_type": "code",
   "execution_count": 44,
   "id": "e9519162",
   "metadata": {
    "ExecuteTime": {
     "end_time": "2022-11-05T19:57:44.892625Z",
     "start_time": "2022-11-05T19:57:44.877192Z"
    }
   },
   "outputs": [
    {
     "name": "stdout",
     "output_type": "stream",
     "text": [
      "<class 'pandas.core.series.Series'>\n",
      "Int64Index: 8196 entries, 0 to 10840\n",
      "Series name: LastUpdated\n",
      "Non-Null Count  Dtype \n",
      "--------------  ----- \n",
      "8196 non-null   object\n",
      "dtypes: object(1)\n",
      "memory usage: 128.1+ KB\n"
     ]
    }
   ],
   "source": [
    "df.LastUpdated.info()"
   ]
  },
  {
   "cell_type": "code",
   "execution_count": 45,
   "id": "a0854c68",
   "metadata": {
    "ExecuteTime": {
     "end_time": "2022-11-05T19:57:44.908381Z",
     "start_time": "2022-11-05T19:57:44.892625Z"
    }
   },
   "outputs": [],
   "source": [
    "import time\n",
    "import datetime"
   ]
  },
  {
   "cell_type": "code",
   "execution_count": 46,
   "id": "8b1123cc",
   "metadata": {
    "ExecuteTime": {
     "end_time": "2022-11-05T19:57:45.033326Z",
     "start_time": "2022-11-05T19:57:44.908381Z"
    }
   },
   "outputs": [
    {
     "name": "stdout",
     "output_type": "stream",
     "text": [
      "2018-08-08 00:00:00\n"
     ]
    }
   ],
   "source": [
    "df['LastUpdated'] = pd.to_datetime(df['LastUpdated'])\n",
    "last_day = df['LastUpdated'].max()\n",
    "print(last_day)"
   ]
  },
  {
   "cell_type": "code",
   "execution_count": 47,
   "id": "60e4b001",
   "metadata": {
    "ExecuteTime": {
     "end_time": "2022-11-05T19:57:45.064551Z",
     "start_time": "2022-11-05T19:57:45.033326Z"
    }
   },
   "outputs": [],
   "source": [
    "# Recency = number of days between the end date and the current date\n",
    "df['Recency'] = [((last_day - x).days) for x in df['LastUpdated']]"
   ]
  },
  {
   "cell_type": "code",
   "execution_count": 48,
   "id": "04c71b84",
   "metadata": {
    "ExecuteTime": {
     "end_time": "2022-11-05T19:57:45.080104Z",
     "start_time": "2022-11-05T19:57:45.064551Z"
    }
   },
   "outputs": [],
   "source": [
    "df.drop(columns=['LastUpdated'], inplace = True)"
   ]
  },
  {
   "cell_type": "markdown",
   "id": "10c04da9",
   "metadata": {},
   "source": [
    "## Data preparation"
   ]
  },
  {
   "cell_type": "code",
   "execution_count": 49,
   "id": "ef47af3f",
   "metadata": {
    "ExecuteTime": {
     "end_time": "2022-11-05T19:57:45.252062Z",
     "start_time": "2022-11-05T19:57:45.080104Z"
    }
   },
   "outputs": [],
   "source": [
    "from sklearn.preprocessing import LabelEncoder, MinMaxScaler"
   ]
  },
  {
   "cell_type": "markdown",
   "id": "3a54ea97",
   "metadata": {},
   "source": [
    "### Label Encoding the categorical features"
   ]
  },
  {
   "cell_type": "code",
   "execution_count": 50,
   "id": "01d46db3",
   "metadata": {
    "ExecuteTime": {
     "end_time": "2022-11-05T19:57:45.267629Z",
     "start_time": "2022-11-05T19:57:45.252062Z"
    }
   },
   "outputs": [],
   "source": [
    "cat_feat = ['Category', 'ContentRating']"
   ]
  },
  {
   "cell_type": "code",
   "execution_count": 51,
   "id": "1747fd8d",
   "metadata": {
    "ExecuteTime": {
     "end_time": "2022-11-05T19:57:45.283208Z",
     "start_time": "2022-11-05T19:57:45.267629Z"
    }
   },
   "outputs": [],
   "source": [
    "def label_encode(data,ToBeLabelEncoded):\n",
    "    le = LabelEncoder()\n",
    "    for feature in ToBeLabelEncoded:\n",
    "        data[feature] = le.fit_transform(data[feature])"
   ]
  },
  {
   "cell_type": "code",
   "execution_count": 52,
   "id": "66d7f08a",
   "metadata": {
    "ExecuteTime": {
     "end_time": "2022-11-05T19:57:45.298912Z",
     "start_time": "2022-11-05T19:57:45.283208Z"
    }
   },
   "outputs": [
    {
     "data": {
      "text/html": [
       "<div>\n",
       "<style scoped>\n",
       "    .dataframe tbody tr th:only-of-type {\n",
       "        vertical-align: middle;\n",
       "    }\n",
       "\n",
       "    .dataframe tbody tr th {\n",
       "        vertical-align: top;\n",
       "    }\n",
       "\n",
       "    .dataframe thead th {\n",
       "        text-align: right;\n",
       "    }\n",
       "</style>\n",
       "<table border=\"1\" class=\"dataframe\">\n",
       "  <thead>\n",
       "    <tr style=\"text-align: right;\">\n",
       "      <th></th>\n",
       "      <th>Category</th>\n",
       "      <th>Rating</th>\n",
       "      <th>Reviews</th>\n",
       "      <th>Size</th>\n",
       "      <th>Installs</th>\n",
       "      <th>Price</th>\n",
       "      <th>ContentRating</th>\n",
       "      <th>Recency</th>\n",
       "    </tr>\n",
       "  </thead>\n",
       "  <tbody>\n",
       "    <tr>\n",
       "      <th>0</th>\n",
       "      <td>ART_AND_DESIGN</td>\n",
       "      <td>4.10000</td>\n",
       "      <td>159</td>\n",
       "      <td>19000000.00000</td>\n",
       "      <td>10</td>\n",
       "      <td>0.00000</td>\n",
       "      <td>Everyone</td>\n",
       "      <td>213</td>\n",
       "    </tr>\n",
       "    <tr>\n",
       "      <th>1</th>\n",
       "      <td>ART_AND_DESIGN</td>\n",
       "      <td>3.90000</td>\n",
       "      <td>967</td>\n",
       "      <td>14000000.00000</td>\n",
       "      <td>500</td>\n",
       "      <td>0.00000</td>\n",
       "      <td>Everyone</td>\n",
       "      <td>205</td>\n",
       "    </tr>\n",
       "    <tr>\n",
       "      <th>2</th>\n",
       "      <td>ART_AND_DESIGN</td>\n",
       "      <td>4.70000</td>\n",
       "      <td>87510</td>\n",
       "      <td>8700000.00000</td>\n",
       "      <td>5</td>\n",
       "      <td>0.00000</td>\n",
       "      <td>Everyone</td>\n",
       "      <td>7</td>\n",
       "    </tr>\n",
       "    <tr>\n",
       "      <th>3</th>\n",
       "      <td>ART_AND_DESIGN</td>\n",
       "      <td>4.50000</td>\n",
       "      <td>215644</td>\n",
       "      <td>25000000.00000</td>\n",
       "      <td>50</td>\n",
       "      <td>0.00000</td>\n",
       "      <td>Teen</td>\n",
       "      <td>61</td>\n",
       "    </tr>\n",
       "    <tr>\n",
       "      <th>4</th>\n",
       "      <td>ART_AND_DESIGN</td>\n",
       "      <td>4.30000</td>\n",
       "      <td>967</td>\n",
       "      <td>2800000.00000</td>\n",
       "      <td>100</td>\n",
       "      <td>0.00000</td>\n",
       "      <td>Everyone</td>\n",
       "      <td>49</td>\n",
       "    </tr>\n",
       "  </tbody>\n",
       "</table>\n",
       "</div>"
      ],
      "text/plain": [
       "         Category  Rating  Reviews           Size  Installs   Price  \\\n",
       "0  ART_AND_DESIGN 4.10000      159 19000000.00000        10 0.00000   \n",
       "1  ART_AND_DESIGN 3.90000      967 14000000.00000       500 0.00000   \n",
       "2  ART_AND_DESIGN 4.70000    87510  8700000.00000         5 0.00000   \n",
       "3  ART_AND_DESIGN 4.50000   215644 25000000.00000        50 0.00000   \n",
       "4  ART_AND_DESIGN 4.30000      967  2800000.00000       100 0.00000   \n",
       "\n",
       "  ContentRating  Recency  \n",
       "0      Everyone      213  \n",
       "1      Everyone      205  \n",
       "2      Everyone        7  \n",
       "3          Teen       61  \n",
       "4      Everyone       49  "
      ]
     },
     "execution_count": 52,
     "metadata": {},
     "output_type": "execute_result"
    }
   ],
   "source": [
    "df.head()"
   ]
  },
  {
   "cell_type": "code",
   "execution_count": 53,
   "id": "39dc1474",
   "metadata": {
    "ExecuteTime": {
     "end_time": "2022-11-05T19:57:45.314465Z",
     "start_time": "2022-11-05T19:57:45.298912Z"
    }
   },
   "outputs": [],
   "source": [
    "label_encode(df,cat_feat)"
   ]
  },
  {
   "cell_type": "markdown",
   "id": "da05b03e",
   "metadata": {},
   "source": [
    "### Scaling the data"
   ]
  },
  {
   "cell_type": "code",
   "execution_count": 54,
   "id": "e8eeb61b",
   "metadata": {
    "ExecuteTime": {
     "end_time": "2022-11-05T19:57:45.330079Z",
     "start_time": "2022-11-05T19:57:45.314465Z"
    }
   },
   "outputs": [],
   "source": [
    "scaler = MinMaxScaler(feature_range=(0,1))\n",
    "columns = df.columns\n",
    "scaler.fit(df)\n",
    "df = pd.DataFrame(scaler.transform(df))\n",
    "df.columns = columns"
   ]
  },
  {
   "cell_type": "code",
   "execution_count": 55,
   "id": "5070852e",
   "metadata": {
    "ExecuteTime": {
     "end_time": "2022-11-05T19:57:45.345719Z",
     "start_time": "2022-11-05T19:57:45.330079Z"
    },
    "scrolled": true
   },
   "outputs": [
    {
     "data": {
      "text/html": [
       "<div>\n",
       "<style scoped>\n",
       "    .dataframe tbody tr th:only-of-type {\n",
       "        vertical-align: middle;\n",
       "    }\n",
       "\n",
       "    .dataframe tbody tr th {\n",
       "        vertical-align: top;\n",
       "    }\n",
       "\n",
       "    .dataframe thead th {\n",
       "        text-align: right;\n",
       "    }\n",
       "</style>\n",
       "<table border=\"1\" class=\"dataframe\">\n",
       "  <thead>\n",
       "    <tr style=\"text-align: right;\">\n",
       "      <th></th>\n",
       "      <th>Category</th>\n",
       "      <th>Rating</th>\n",
       "      <th>Reviews</th>\n",
       "      <th>Size</th>\n",
       "      <th>Installs</th>\n",
       "      <th>Price</th>\n",
       "      <th>ContentRating</th>\n",
       "      <th>Recency</th>\n",
       "    </tr>\n",
       "  </thead>\n",
       "  <tbody>\n",
       "    <tr>\n",
       "      <th>0</th>\n",
       "      <td>0.00000</td>\n",
       "      <td>0.77500</td>\n",
       "      <td>0.00000</td>\n",
       "      <td>0.18182</td>\n",
       "      <td>0.01804</td>\n",
       "      <td>0.00000</td>\n",
       "      <td>0.20000</td>\n",
       "      <td>0.07098</td>\n",
       "    </tr>\n",
       "    <tr>\n",
       "      <th>1</th>\n",
       "      <td>0.00000</td>\n",
       "      <td>0.72500</td>\n",
       "      <td>0.00001</td>\n",
       "      <td>0.13131</td>\n",
       "      <td>1.00000</td>\n",
       "      <td>0.00000</td>\n",
       "      <td>0.20000</td>\n",
       "      <td>0.06831</td>\n",
       "    </tr>\n",
       "    <tr>\n",
       "      <th>2</th>\n",
       "      <td>0.00000</td>\n",
       "      <td>0.92500</td>\n",
       "      <td>0.00112</td>\n",
       "      <td>0.07778</td>\n",
       "      <td>0.00802</td>\n",
       "      <td>0.00000</td>\n",
       "      <td>0.20000</td>\n",
       "      <td>0.00233</td>\n",
       "    </tr>\n",
       "    <tr>\n",
       "      <th>3</th>\n",
       "      <td>0.00000</td>\n",
       "      <td>0.87500</td>\n",
       "      <td>0.00276</td>\n",
       "      <td>0.24242</td>\n",
       "      <td>0.09820</td>\n",
       "      <td>0.00000</td>\n",
       "      <td>0.80000</td>\n",
       "      <td>0.02033</td>\n",
       "    </tr>\n",
       "    <tr>\n",
       "      <th>4</th>\n",
       "      <td>0.00000</td>\n",
       "      <td>0.82500</td>\n",
       "      <td>0.00001</td>\n",
       "      <td>0.01818</td>\n",
       "      <td>0.19840</td>\n",
       "      <td>0.00000</td>\n",
       "      <td>0.20000</td>\n",
       "      <td>0.01633</td>\n",
       "    </tr>\n",
       "  </tbody>\n",
       "</table>\n",
       "</div>"
      ],
      "text/plain": [
       "   Category  Rating  Reviews    Size  Installs   Price  ContentRating  Recency\n",
       "0   0.00000 0.77500  0.00000 0.18182   0.01804 0.00000        0.20000  0.07098\n",
       "1   0.00000 0.72500  0.00001 0.13131   1.00000 0.00000        0.20000  0.06831\n",
       "2   0.00000 0.92500  0.00112 0.07778   0.00802 0.00000        0.20000  0.00233\n",
       "3   0.00000 0.87500  0.00276 0.24242   0.09820 0.00000        0.80000  0.02033\n",
       "4   0.00000 0.82500  0.00001 0.01818   0.19840 0.00000        0.20000  0.01633"
      ]
     },
     "execution_count": 55,
     "metadata": {},
     "output_type": "execute_result"
    }
   ],
   "source": [
    "df.head()"
   ]
  },
  {
   "cell_type": "code",
   "execution_count": 56,
   "id": "da27067b",
   "metadata": {
    "ExecuteTime": {
     "end_time": "2022-11-05T19:57:45.361324Z",
     "start_time": "2022-11-05T19:57:45.345719Z"
    }
   },
   "outputs": [],
   "source": [
    "# Getting the Predictors matrix and Prediction Set\n",
    "\n",
    "X = df.drop('Rating',axis=1)\n",
    "y = df['Rating']"
   ]
  },
  {
   "cell_type": "code",
   "execution_count": 57,
   "id": "a7c0b6ae",
   "metadata": {
    "ExecuteTime": {
     "end_time": "2022-11-05T19:57:45.408202Z",
     "start_time": "2022-11-05T19:57:45.361324Z"
    }
   },
   "outputs": [],
   "source": [
    "from sklearn.model_selection import train_test_split"
   ]
  },
  {
   "cell_type": "code",
   "execution_count": 58,
   "id": "100dd994",
   "metadata": {
    "ExecuteTime": {
     "end_time": "2022-11-05T19:57:45.423817Z",
     "start_time": "2022-11-05T19:57:45.408202Z"
    }
   },
   "outputs": [],
   "source": [
    "## Split the dataset into two parts (i.e. 70% train and 30% test) using random_state=42.\n",
    "X_train, X_test, y_train, y_test =train_test_split(X,y,test_size=0.3,random_state=42)"
   ]
  },
  {
   "cell_type": "markdown",
   "id": "6d2e1274",
   "metadata": {},
   "source": [
    "### Training a Decision Tree Model"
   ]
  },
  {
   "cell_type": "code",
   "execution_count": 59,
   "id": "af5972a0",
   "metadata": {
    "ExecuteTime": {
     "end_time": "2022-11-05T19:57:45.517565Z",
     "start_time": "2022-11-05T19:57:45.423817Z"
    }
   },
   "outputs": [],
   "source": [
    "from sklearn.tree import DecisionTreeRegressor\n",
    "from sklearn.ensemble import RandomForestRegressor, AdaBoostRegressor\n",
    "from sklearn.metrics import mean_squared_error"
   ]
  },
  {
   "cell_type": "code",
   "execution_count": 60,
   "id": "6956147b",
   "metadata": {
    "ExecuteTime": {
     "end_time": "2022-11-05T19:57:45.564445Z",
     "start_time": "2022-11-05T19:57:45.517565Z"
    }
   },
   "outputs": [],
   "source": [
    "dt = DecisionTreeRegressor()\n",
    "dt.fit(X_train,y_train)\n",
    "y_test_pred = dt.predict(X_test)\n",
    "y_train_pred = dt.predict(X_train)"
   ]
  },
  {
   "cell_type": "code",
   "execution_count": 61,
   "id": "31ecf158",
   "metadata": {
    "ExecuteTime": {
     "end_time": "2022-11-05T19:57:45.580052Z",
     "start_time": "2022-11-05T19:57:45.564445Z"
    }
   },
   "outputs": [
    {
     "name": "stdout",
     "output_type": "stream",
     "text": [
      "Train Mean Squared Error 1.5869211550752427e-05\n",
      "Test Mean Squared Error 0.032432645384302565\n"
     ]
    }
   ],
   "source": [
    "print(\"Train Mean Squared Error\",mean_squared_error(y_train,y_train_pred))\n",
    "print(\"Test Mean Squared Error\",mean_squared_error(y_test,y_test_pred))"
   ]
  },
  {
   "cell_type": "code",
   "execution_count": 62,
   "id": "7c7a3095",
   "metadata": {
    "ExecuteTime": {
     "end_time": "2022-11-05T19:57:45.751995Z",
     "start_time": "2022-11-05T19:57:45.580052Z"
    },
    "scrolled": true
   },
   "outputs": [
    {
     "data": {
      "image/png": "[encoded data removed]",
      "text/plain": [
       "<Figure size 1000x500 with 1 Axes>"
      ]
     },
     "metadata": {},
     "output_type": "display_data"
    }
   ],
   "source": [
    "feature_importances = pd.DataFrame({'features': X_train.columns, 'Importance': dt.feature_importances_})\n",
    "\n",
    "feature_importances = feature_importances.sort_values('Importance',ascending=False).reset_index(drop=True)\n",
    "\n",
    "\n",
    "plt.figure(figsize=(10,5))\n",
    "sns.barplot(x='Importance',y='features',data=feature_importances)\n",
    "plt.show()"
   ]
  },
  {
   "cell_type": "markdown",
   "id": "ad31066f",
   "metadata": {},
   "source": [
    "### Training a Random Forest Model"
   ]
  },
  {
   "cell_type": "code",
   "execution_count": 63,
   "id": "bc63baaf",
   "metadata": {
    "ExecuteTime": {
     "end_time": "2022-11-05T19:57:47.486286Z",
     "start_time": "2022-11-05T19:57:45.751995Z"
    }
   },
   "outputs": [],
   "source": [
    "rf = RandomForestRegressor()\n",
    "rf.fit(X_train,y_train)\n",
    "y_test_pred = rf.predict(X_test)\n",
    "y_train_pred = rf.predict(X_train)"
   ]
  },
  {
   "cell_type": "code",
   "execution_count": 64,
   "id": "f8c11439",
   "metadata": {
    "ExecuteTime": {
     "end_time": "2022-11-05T19:57:47.501792Z",
     "start_time": "2022-11-05T19:57:47.486286Z"
    }
   },
   "outputs": [
    {
     "name": "stdout",
     "output_type": "stream",
     "text": [
      "Train Mean Squared Error 0.002284367621642773\n",
      "Test Mean Squared Error 0.016444551683180545\n"
     ]
    }
   ],
   "source": [
    "print(\"Train Mean Squared Error\",mean_squared_error(y_train,y_train_pred))\n",
    "print(\"Test Mean Squared Error\",mean_squared_error(y_test,y_test_pred))"
   ]
  },
  {
   "cell_type": "markdown",
   "id": "4b1f074b",
   "metadata": {},
   "source": [
    "### Train an Ada-boost Regressor model "
   ]
  },
  {
   "cell_type": "code",
   "execution_count": 65,
   "id": "9632cfde",
   "metadata": {
    "ExecuteTime": {
     "end_time": "2022-11-05T19:57:48.751760Z",
     "start_time": "2022-11-05T19:57:47.501792Z"
    }
   },
   "outputs": [],
   "source": [
    "ada = AdaBoostRegressor(base_estimator=dt, random_state=7, learning_rate=0.1)\n",
    "ada.fit(X_train,y_train)\n",
    "y_test_pred = ada.predict(X_test)\n",
    "y_train_pred = ada.predict(X_train)"
   ]
  },
  {
   "cell_type": "code",
   "execution_count": 66,
   "id": "be40619e",
   "metadata": {
    "ExecuteTime": {
     "end_time": "2022-11-05T19:57:48.767291Z",
     "start_time": "2022-11-05T19:57:48.751760Z"
    }
   },
   "outputs": [
    {
     "name": "stdout",
     "output_type": "stream",
     "text": [
      "AdaBoostRegressor(base_estimator=DecisionTreeRegressor(), learning_rate=0.1,\n",
      "                  random_state=7)\n"
     ]
    }
   ],
   "source": [
    "print(ada)"
   ]
  },
  {
   "cell_type": "code",
   "execution_count": 67,
   "id": "f4e08a16",
   "metadata": {
    "ExecuteTime": {
     "end_time": "2022-11-05T19:57:48.782906Z",
     "start_time": "2022-11-05T19:57:48.767291Z"
    }
   },
   "outputs": [
    {
     "name": "stdout",
     "output_type": "stream",
     "text": [
      "Train Mean Squared Error 1.7498045097127805e-05\n",
      "Test Mean Squared Error 0.01796926850345669\n"
     ]
    }
   ],
   "source": [
    "print(\"Train Mean Squared Error\",mean_squared_error(y_train,y_train_pred))\n",
    "print(\"Test Mean Squared Error\",mean_squared_error(y_test,y_test_pred))"
   ]
  },
  {
   "cell_type": "markdown",
   "id": "d9fcaec7",
   "metadata": {},
   "source": [
    "### Training a Stacking Regressor model"
   ]
  },
  {
   "cell_type": "code",
   "execution_count": 68,
   "id": "646a184c",
   "metadata": {
    "ExecuteTime": {
     "end_time": "2022-11-05T19:57:48.814174Z",
     "start_time": "2022-11-05T19:57:48.782906Z"
    }
   },
   "outputs": [],
   "source": [
    "from mlxtend.regressor import StackingRegressor\n",
    "from sklearn.linear_model import LinearRegression"
   ]
  },
  {
   "cell_type": "code",
   "execution_count": 69,
   "id": "a1e1c4d3",
   "metadata": {
    "ExecuteTime": {
     "end_time": "2022-11-05T19:57:48.829702Z",
     "start_time": "2022-11-05T19:57:48.814174Z"
    }
   },
   "outputs": [
    {
     "data": {
      "text/html": [
       "<style>#sk-container-id-1 {color: black;background-color: white;}#sk-container-id-1 pre{padding: 0;}#sk-container-id-1 div.sk-toggleable {background-color: white;}#sk-container-id-1 label.sk-toggleable__label {cursor: pointer;display: block;width: 100%;margin-bottom: 0;padding: 0.3em;box-sizing: border-box;text-align: center;}#sk-container-id-1 label.sk-toggleable__label-arrow:before {content: \"▸\";float: left;margin-right: 0.25em;color: #696969;}#sk-container-id-1 label.sk-toggleable__label-arrow:hover:before {color: black;}#sk-container-id-1 div.sk-estimator:hover label.sk-toggleable__label-arrow:before {color: black;}#sk-container-id-1 div.sk-toggleable__content {max-height: 0;max-width: 0;overflow: hidden;text-align: left;background-color: #f0f8ff;}#sk-container-id-1 div.sk-toggleable__content pre {margin: 0.2em;color: black;border-radius: 0.25em;background-color: #f0f8ff;}#sk-container-id-1 input.sk-toggleable__control:checked~div.sk-toggleable__content {max-height: 200px;max-width: 100%;overflow: auto;}#sk-container-id-1 input.sk-toggleable__control:checked~label.sk-toggleable__label-arrow:before {content: \"▾\";}#sk-container-id-1 div.sk-estimator input.sk-toggleable__control:checked~label.sk-toggleable__label {background-color: #d4ebff;}#sk-container-id-1 div.sk-label input.sk-toggleable__control:checked~label.sk-toggleable__label {background-color: #d4ebff;}#sk-container-id-1 input.sk-hidden--visually {border: 0;clip: rect(1px 1px 1px 1px);clip: rect(1px, 1px, 1px, 1px);height: 1px;margin: -1px;overflow: hidden;padding: 0;position: absolute;width: 1px;}#sk-container-id-1 div.sk-estimator {font-family: monospace;background-color: #f0f8ff;border: 1px dotted black;border-radius: 0.25em;box-sizing: border-box;margin-bottom: 0.5em;}#sk-container-id-1 div.sk-estimator:hover {background-color: #d4ebff;}#sk-container-id-1 div.sk-parallel-item::after {content: \"\";width: 100%;border-bottom: 1px solid gray;flex-grow: 1;}#sk-container-id-1 div.sk-label:hover label.sk-toggleable__label {background-color: #d4ebff;}#sk-container-id-1 div.sk-serial::before {content: \"\";position: absolute;border-left: 1px solid gray;box-sizing: border-box;top: 0;bottom: 0;left: 50%;z-index: 0;}#sk-container-id-1 div.sk-serial {display: flex;flex-direction: column;align-items: center;background-color: white;padding-right: 0.2em;padding-left: 0.2em;position: relative;}#sk-container-id-1 div.sk-item {position: relative;z-index: 1;}#sk-container-id-1 div.sk-parallel {display: flex;align-items: stretch;justify-content: center;background-color: white;position: relative;}#sk-container-id-1 div.sk-item::before, #sk-container-id-1 div.sk-parallel-item::before {content: \"\";position: absolute;border-left: 1px solid gray;box-sizing: border-box;top: 0;bottom: 0;left: 50%;z-index: -1;}#sk-container-id-1 div.sk-parallel-item {display: flex;flex-direction: column;z-index: 1;position: relative;background-color: white;}#sk-container-id-1 div.sk-parallel-item:first-child::after {align-self: flex-end;width: 50%;}#sk-container-id-1 div.sk-parallel-item:last-child::after {align-self: flex-start;width: 50%;}#sk-container-id-1 div.sk-parallel-item:only-child::after {width: 0;}#sk-container-id-1 div.sk-dashed-wrapped {border: 1px dashed gray;margin: 0 0.4em 0.5em 0.4em;box-sizing: border-box;padding-bottom: 0.4em;background-color: white;}#sk-container-id-1 div.sk-label label {font-family: monospace;font-weight: bold;display: inline-block;line-height: 1.2em;}#sk-container-id-1 div.sk-label-container {text-align: center;}#sk-container-id-1 div.sk-container {/* jupyter's `normalize.less` sets `[hidden] { display: none; }` but bootstrap.min.css set `[hidden] { display: none !important; }` so we also need the `!important` here to be able to override the default hidden behavior on the sphinx rendered scikit-learn.org. See: https://github.com/scikit-learn/scikit-learn/issues/21755 */display: inline-block !important;position: relative;}#sk-container-id-1 div.sk-text-repr-fallback {display: none;}</style><div id=\"sk-container-id-1\" class=\"sk-top-container\"><div class=\"sk-text-repr-fallback\"><pre>StackingRegressor(meta_regressor=RandomForestRegressor(n_estimators=30),\n",
       "                  regressors=[LinearRegression(),\n",
       "                              DecisionTreeRegressor(max_depth=15),\n",
       "                              AdaBoostRegressor()])</pre><b>In a Jupyter environment, please rerun this cell to show the HTML representation or trust the notebook. <br />On GitHub, the HTML representation is unable to render, please try loading this page with nbviewer.org.</b></div><div class=\"sk-container\" hidden><div class=\"sk-item sk-dashed-wrapped\"><div class=\"sk-label-container\"><div class=\"sk-label sk-toggleable\"><input class=\"sk-toggleable__control sk-hidden--visually\" id=\"sk-estimator-id-1\" type=\"checkbox\" ><label for=\"sk-estimator-id-1\" class=\"sk-toggleable__label sk-toggleable__label-arrow\">StackingRegressor</label><div class=\"sk-toggleable__content\"><pre>StackingRegressor(meta_regressor=RandomForestRegressor(n_estimators=30),\n",
       "                  regressors=[LinearRegression(),\n",
       "                              DecisionTreeRegressor(max_depth=15),\n",
       "                              AdaBoostRegressor()])</pre></div></div></div><div class=\"sk-parallel\"><div class=\"sk-parallel-item\"><div class=\"sk-item\"><div class=\"sk-label-container\"><div class=\"sk-label sk-toggleable\"><input class=\"sk-toggleable__control sk-hidden--visually\" id=\"sk-estimator-id-2\" type=\"checkbox\" ><label for=\"sk-estimator-id-2\" class=\"sk-toggleable__label sk-toggleable__label-arrow\">meta_regressor: RandomForestRegressor</label><div class=\"sk-toggleable__content\"><pre>RandomForestRegressor(n_estimators=30)</pre></div></div></div><div class=\"sk-serial\"><div class=\"sk-item\"><div class=\"sk-estimator sk-toggleable\"><input class=\"sk-toggleable__control sk-hidden--visually\" id=\"sk-estimator-id-3\" type=\"checkbox\" ><label for=\"sk-estimator-id-3\" class=\"sk-toggleable__label sk-toggleable__label-arrow\">RandomForestRegressor</label><div class=\"sk-toggleable__content\"><pre>RandomForestRegressor(n_estimators=30)</pre></div></div></div></div></div></div></div></div></div></div>"
      ],
      "text/plain": [
       "StackingRegressor(meta_regressor=RandomForestRegressor(n_estimators=30),\n",
       "                  regressors=[LinearRegression(),\n",
       "                              DecisionTreeRegressor(max_depth=15),\n",
       "                              AdaBoostRegressor()])"
      ]
     },
     "execution_count": 69,
     "metadata": {},
     "output_type": "execute_result"
    }
   ],
   "source": [
    "sr = StackingRegressor(regressors=[LinearRegression(),DecisionTreeRegressor(max_depth=15),AdaBoostRegressor()],\n",
    "                       meta_regressor = RandomForestRegressor(n_estimators=30))\n",
    "sr"
   ]
  },
  {
   "cell_type": "code",
   "execution_count": 70,
   "id": "66f08990",
   "metadata": {
    "ExecuteTime": {
     "end_time": "2022-11-05T19:57:49.236003Z",
     "start_time": "2022-11-05T19:57:48.829702Z"
    }
   },
   "outputs": [],
   "source": [
    "sr.fit(X_train.values,y_train.values)\n",
    "y_test_pred = sr.predict(X_test.values)\n",
    "y_train_pred = sr.predict(X_train.values)"
   ]
  },
  {
   "cell_type": "code",
   "execution_count": 71,
   "id": "48e7d3ce",
   "metadata": {
    "ExecuteTime": {
     "end_time": "2022-11-05T19:57:49.251604Z",
     "start_time": "2022-11-05T19:57:49.236003Z"
    },
    "scrolled": true
   },
   "outputs": [
    {
     "name": "stdout",
     "output_type": "stream",
     "text": [
      "Train Mean Squared Error 0.0011865966616662854\n",
      "Test Mean Squared Error 0.02769625433278631\n"
     ]
    }
   ],
   "source": [
    "print(\"Train Mean Squared Error\",mean_squared_error(y_train,y_train_pred))\n",
    "print(\"Test Mean Squared Error\",mean_squared_error(y_test,y_test_pred))"
   ]
  },
  {
   "cell_type": "code",
   "execution_count": 72,
   "id": "cd88d6b6",
   "metadata": {
    "ExecuteTime": {
     "end_time": "2022-11-05T19:57:58.594372Z",
     "start_time": "2022-11-05T19:57:49.251604Z"
    }
   },
   "outputs": [
    {
     "data": {
      "text/html": [
       "<div>\n",
       "<style scoped>\n",
       "    .dataframe tbody tr th:only-of-type {\n",
       "        vertical-align: middle;\n",
       "    }\n",
       "\n",
       "    .dataframe tbody tr th {\n",
       "        vertical-align: top;\n",
       "    }\n",
       "\n",
       "    .dataframe thead th {\n",
       "        text-align: right;\n",
       "    }\n",
       "</style>\n",
       "<table border=\"1\" class=\"dataframe\">\n",
       "  <thead>\n",
       "    <tr style=\"text-align: right;\">\n",
       "      <th></th>\n",
       "      <th>Decision Tree</th>\n",
       "      <th>Random Forest</th>\n",
       "      <th>Ada Boost</th>\n",
       "      <th>Stacking Classifier</th>\n",
       "      <th>Best Score</th>\n",
       "    </tr>\n",
       "  </thead>\n",
       "  <tbody>\n",
       "    <tr>\n",
       "      <th>MSE</th>\n",
       "      <td>0.03485</td>\n",
       "      <td>0.01743</td>\n",
       "      <td>0.01892</td>\n",
       "      <td>0.03163</td>\n",
       "      <td>Random Forest</td>\n",
       "    </tr>\n",
       "    <tr>\n",
       "      <th>MAE</th>\n",
       "      <td>0.12587</td>\n",
       "      <td>0.09243</td>\n",
       "      <td>0.09170</td>\n",
       "      <td>0.12069</td>\n",
       "      <td>Ada Boost</td>\n",
       "    </tr>\n",
       "  </tbody>\n",
       "</table>\n",
       "</div>"
      ],
      "text/plain": [
       "     Decision Tree  Random Forest  Ada Boost  Stacking Classifier  \\\n",
       "MSE        0.03485        0.01743    0.01892              0.03163   \n",
       "MAE        0.12587        0.09243    0.09170              0.12069   \n",
       "\n",
       "        Best Score  \n",
       "MSE  Random Forest  \n",
       "MAE      Ada Boost  "
      ]
     },
     "execution_count": 72,
     "metadata": {},
     "output_type": "execute_result"
    }
   ],
   "source": [
    "from sklearn.metrics import make_scorer, mean_absolute_error, r2_score\n",
    "from sklearn.model_selection import cross_validate\n",
    "\n",
    "# Define dictionary with performance metrics\n",
    "scoring = {\n",
    "           'MSE':make_scorer(mean_squared_error), \n",
    "           'MAE':make_scorer(mean_absolute_error)\n",
    "          }\n",
    "\n",
    "# Define the models evaluation function\n",
    "def models_evaluation(X, y, folds):\n",
    "    \n",
    "    '''\n",
    "    X : data set features\n",
    "    y : data set target\n",
    "    folds : number of cross-validation folds\n",
    "    \n",
    "    '''\n",
    "    \n",
    "    # Perform cross-validation to each machine learning classifier\n",
    "    decision_mod = cross_validate(dt, X, y, cv=folds, scoring=scoring)\n",
    "    rf_mod = cross_validate(rf, X, y, cv=folds, scoring=scoring)\n",
    "    ada_mod = cross_validate(ada, X, y, cv=folds, scoring=scoring)\n",
    "    sclf_mod = cross_validate(sr, X.values, y.values, cv=folds, scoring=scoring)\n",
    "\n",
    "    # Create a data frame with the models performance metrics scores\n",
    "    models_scores_table = pd.DataFrame(\n",
    "        {'Decision Tree' : [\n",
    "                            decision_mod['test_MSE'].mean(),\n",
    "                            decision_mod['test_MAE'].mean()\n",
    "                           ],                           \n",
    "        'Random Forest': [\n",
    "                           rf_mod['test_MSE'].mean(),\n",
    "                           rf_mod['test_MAE'].mean()\n",
    "                         ],  \n",
    "        'Ada Boost': [ \n",
    "                        ada_mod['test_MSE'].mean(),\n",
    "                        ada_mod['test_MAE'].mean()\n",
    "                     ],\n",
    "        'Stacking Classifier' : [\n",
    "                                sclf_mod['test_MSE'].mean(),\n",
    "                                sclf_mod['test_MAE'].mean()\n",
    "                                ]                            \n",
    "        },\n",
    "                                      \n",
    "        index=['MSE', 'MAE'])\n",
    "    \n",
    "    # Add 'Best Score' column\n",
    "    models_scores_table['Best Score'] = models_scores_table.idxmin(axis=1)\n",
    "    \n",
    "    # Return models performance metrics scores data frame\n",
    "    return(models_scores_table)\n",
    "  \n",
    "# Run models_evaluation function\n",
    "models_evaluation(X_test, y_test, 8)"
   ]
  },
  {
   "cell_type": "markdown",
   "id": "76f40f6f",
   "metadata": {},
   "source": [
    "# Summary"
   ]
  },
  {
   "cell_type": "markdown",
   "id": "8f8a1d9a",
   "metadata": {},
   "source": [
    "- We tried 4 regression models in their base form without hyperparameter tuning. These are: Decision Tree, Random Forest, Ada Boost and Stacking of of them.\n",
    "- We found that Ada-boost as well as Random Forest Regressor model is performing well in terms of training and test accuracy of the model. Stacking model was expected to perform better, but may we didn't select a condusive set of base learners. \n",
    "- We can see that Ensemble methods can really help in overcoming a model's over-fitting problem.\n",
    "- With hyperparmater tuning, we can achieve better results."
   ]
  }
 ],
 "metadata": {
  "colab": {
   "provenance": []
  },
  "kernelspec": {
   "display_name": "Python 3 (ipykernel)",
   "language": "python",
   "name": "python3"
  },
  "language_info": {
   "codemirror_mode": {
    "name": "ipython",
    "version": 3
   },
   "file_extension": ".py",
   "mimetype": "text/x-python",
   "name": "python",
   "nbconvert_exporter": "python",
   "pygments_lexer": "ipython3",
   "version": "3.9.13"
  },
  "toc": {
   "base_numbering": 1,
   "nav_menu": {},
   "number_sections": true,
   "sideBar": true,
   "skip_h1_title": false,
   "title_cell": "Table of Contents",
   "title_sidebar": "Contents",
   "toc_cell": false,
   "toc_position": {},
   "toc_section_display": true,
   "toc_window_display": false
  },
  "varInspector": {
   "cols": {
    "lenName": 16,
    "lenType": 16,
    "lenVar": 40
   },
   "kernels_config": {
    "python": {
     "delete_cmd_postfix": "",
     "delete_cmd_prefix": "del ",
     "library": "var_list.py",
     "varRefreshCmd": "print(var_dic_list())"
    },
    "r": {
     "delete_cmd_postfix": ") ",
     "delete_cmd_prefix": "rm(",
     "library": "var_list.r",
     "varRefreshCmd": "cat(var_dic_list()) "
    }
   },
   "types_to_exclude": [
    "module",
    "function",
    "builtin_function_or_method",
    "instance",
    "_Feature"
   ],
   "window_display": false
  }
 },
 "nbformat": 4,
 "nbformat_minor": 5
}
